{
 "cells": [
  {
   "cell_type": "markdown",
   "id": "c6e93d51",
   "metadata": {},
   "source": [
    "### Practical Computer Vision with OpenCV and Python\n",
    "- Author: Srikanth Guskra\n",
    "- URL: https://www.udemy.com/user/data-science-anywhere-2/"
   ]
  },
  {
   "cell_type": "code",
   "execution_count": 1,
   "id": "e5ad4737",
   "metadata": {},
   "outputs": [],
   "source": [
    "import cv2\n",
    "import numpy as np"
   ]
  },
  {
   "cell_type": "code",
   "execution_count": 3,
   "id": "098232e2",
   "metadata": {},
   "outputs": [],
   "source": [
    "img = cv2.imread('./images/face_with_spot.jpg')\n",
    "\n",
    "cv2.imshow('face',img)\n",
    "cv2.waitKey()\n",
    "cv2.destroyAllWindows()"
   ]
  },
  {
   "cell_type": "markdown",
   "id": "24a1b16e",
   "metadata": {},
   "source": [
    "### Bilateral Filter"
   ]
  },
  {
   "cell_type": "code",
   "execution_count": 12,
   "id": "a8fa8862",
   "metadata": {},
   "outputs": [],
   "source": [
    "bilateral_filter_img = cv2.bilateralFilter(img,20,50,80)"
   ]
  },
  {
   "cell_type": "code",
   "execution_count": 13,
   "id": "f57a797c",
   "metadata": {},
   "outputs": [],
   "source": [
    "cv2.imshow('original',img)\n",
    "cv2.imshow('bilateral',bilateral_filter_img)\n",
    "cv2.waitKey()\n",
    "cv2.destroyAllWindows()"
   ]
  },
  {
   "cell_type": "code",
   "execution_count": null,
   "id": "df5511ba",
   "metadata": {},
   "outputs": [],
   "source": []
  },
  {
   "cell_type": "markdown",
   "id": "3746a39e",
   "metadata": {},
   "source": [
    "###  END\n",
    "---"
   ]
  }
 ],
 "metadata": {
  "kernelspec": {
   "display_name": "Python 3 (ipykernel)",
   "language": "python",
   "name": "python3"
  },
  "language_info": {
   "codemirror_mode": {
    "name": "ipython",
    "version": 3
   },
   "file_extension": ".py",
   "mimetype": "text/x-python",
   "name": "python",
   "nbconvert_exporter": "python",
   "pygments_lexer": "ipython3",
   "version": "3.9.6"
  }
 },
 "nbformat": 4,
 "nbformat_minor": 5
}
