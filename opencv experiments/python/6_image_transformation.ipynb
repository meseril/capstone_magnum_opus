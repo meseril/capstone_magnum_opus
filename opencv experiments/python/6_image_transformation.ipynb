{
 "cells": [
  {
   "cell_type": "code",
   "execution_count": 2,
   "metadata": {},
   "outputs": [],
   "source": [
    "import numpy as np\n",
    "import cv2"
   ]
  },
  {
   "cell_type": "code",
   "execution_count": 3,
   "metadata": {},
   "outputs": [],
   "source": [
    "img = cv2.imread('./example.png')"
   ]
  },
  {
   "cell_type": "code",
   "execution_count": 5,
   "metadata": {},
   "outputs": [],
   "source": [
    "def display(winame, img):\n",
    "    cv2.imshow(winame, img)\n",
    "    cv2.waitKey(0)\n",
    "    cv2.destroyAllWindows()"
   ]
  },
  {
   "cell_type": "code",
   "execution_count": 17,
   "metadata": {},
   "outputs": [
    {
     "data": {
      "text/plain": [
       "'bird'"
      ]
     },
     "metadata": {},
     "output_type": "display_data"
    },
    {
     "data": {
      "text/plain": [
       "array([[[188, 163, 119],\n",
       "        [189, 164, 120],\n",
       "        [189, 164, 120],\n",
       "        ...,\n",
       "        [188, 163, 119],\n",
       "        [188, 163, 119],\n",
       "        [188, 163, 119]],\n",
       "\n",
       "       [[188, 163, 119],\n",
       "        [189, 164, 120],\n",
       "        [189, 164, 120],\n",
       "        ...,\n",
       "        [188, 163, 119],\n",
       "        [188, 163, 119],\n",
       "        [188, 163, 119]],\n",
       "\n",
       "       [[188, 163, 119],\n",
       "        [189, 164, 120],\n",
       "        [189, 164, 120],\n",
       "        ...,\n",
       "        [188, 163, 119],\n",
       "        [188, 163, 119],\n",
       "        [188, 163, 119]],\n",
       "\n",
       "       ...,\n",
       "\n",
       "       [[167, 134,  88],\n",
       "        [167, 134,  88],\n",
       "        [167, 134,  88],\n",
       "        ...,\n",
       "        [177, 144,  98],\n",
       "        [177, 144,  98],\n",
       "        [177, 144,  98]],\n",
       "\n",
       "       [[171, 141,  94],\n",
       "        [171, 141,  94],\n",
       "        [172, 142,  95],\n",
       "        ...,\n",
       "        [177, 144,  98],\n",
       "        [177, 144,  98],\n",
       "        [177, 144,  98]],\n",
       "\n",
       "       [[177, 147, 100],\n",
       "        [177, 147, 100],\n",
       "        [178, 148, 101],\n",
       "        ...,\n",
       "        [177, 144,  98],\n",
       "        [177, 144,  98],\n",
       "        [177, 144,  98]]], dtype=uint8)"
      ]
     },
     "metadata": {},
     "output_type": "display_data"
    }
   ],
   "source": [
    "display(\"bird\", img)"
   ]
  },
  {
   "cell_type": "markdown",
   "metadata": {},
   "source": [
    "Transforming"
   ]
  },
  {
   "cell_type": "code",
   "execution_count": 10,
   "metadata": {},
   "outputs": [
    {
     "data": {
      "text/plain": [
       "array([[  1.,   0., 100.],\n",
       "       [  0.,   1., 150.]], dtype=float32)"
      ]
     },
     "execution_count": 10,
     "metadata": {},
     "output_type": "execute_result"
    }
   ],
   "source": [
    "tx = 100\n",
    "ty = 150"
   ]
  },
  {
   "cell_type": "code",
   "execution_count": 11,
   "metadata": {},
   "outputs": [],
   "source": []
  },
  {
   "cell_type": "code",
   "execution_count": 12,
   "metadata": {},
   "outputs": [],
   "source": [
    "display(\"shifted right 100, down 150\", shifted_img)"
   ]
  },
  {
   "cell_type": "code",
   "execution_count": 14,
   "metadata": {},
   "outputs": [],
   "source": [
    "def translation(image, tx,ty):\n",
    "    M = np.float32([[1,0,tx],\n",
    "                [0,1,ty]])\n",
    "    shifted_img = cv2.warpAffine(image,M,(image.shape[1],image.shape[0]))\n",
    "    display(\"shifted\", shifted_img)"
   ]
  },
  {
   "cell_type": "code",
   "execution_count": 15,
   "metadata": {},
   "outputs": [],
   "source": [
    "translation(img, -100,-150)"
   ]
  },
  {
   "cell_type": "markdown",
   "metadata": {},
   "source": [
    "Rotating"
   ]
  },
  {
   "cell_type": "code",
   "execution_count": 7,
   "metadata": {},
   "outputs": [],
   "source": [
    "display(\"bird\",img)\n",
    "center = (img.shape[1]//2,img.shape[0]//2)"
   ]
  },
  {
   "cell_type": "code",
   "execution_count": 20,
   "metadata": {},
   "outputs": [
    {
     "data": {
      "text/plain": [
       "array([[ 6.12323400e-17,  1.00000000e+00, -5.68434189e-14],\n",
       "       [-1.00000000e+00,  6.12323400e-17,  6.40000000e+02]])"
      ]
     },
     "execution_count": 20,
     "metadata": {},
     "output_type": "execute_result"
    }
   ],
   "source": [
    "M = cv2.getRotationMatrix2D(center,90,1)\n",
    "M"
   ]
  },
  {
   "cell_type": "code",
   "execution_count": 21,
   "metadata": {},
   "outputs": [],
   "source": [
    "rotate_90 = cv2.warpAffine(img,M,(img.shape[1],img.shape[0]))"
   ]
  },
  {
   "cell_type": "code",
   "execution_count": 22,
   "metadata": {},
   "outputs": [],
   "source": [
    "display(\"rotate 90 degrees anti-clockwise\", rotate_90)"
   ]
  },
  {
   "cell_type": "code",
   "execution_count": 25,
   "metadata": {},
   "outputs": [],
   "source": [
    "def rotate(image, angle, scale):\n",
    "    center = (image.shape[1]//2,image.shape[0]//2)\n",
    "    M = cv2.getRotationMatrix2D(center,angle,scale)\n",
    "    rotate_img = cv2.warpAffine(image,M,(img.shape[1],img.shape[0]))\n",
    "    display(\"rotate\", rotate_img)"
   ]
  },
  {
   "cell_type": "code",
   "execution_count": 27,
   "metadata": {},
   "outputs": [],
   "source": [
    "rotate(img,45,0.5)"
   ]
  },
  {
   "cell_type": "markdown",
   "metadata": {},
   "source": [
    "Resizing\n"
   ]
  },
  {
   "cell_type": "code",
   "execution_count": 28,
   "metadata": {},
   "outputs": [
    {
     "data": {
      "text/plain": [
       "(640, 640, 3)"
      ]
     },
     "execution_count": 28,
     "metadata": {},
     "output_type": "execute_result"
    }
   ],
   "source": [
    "img.shape"
   ]
  },
  {
   "cell_type": "code",
   "execution_count": 31,
   "metadata": {},
   "outputs": [],
   "source": [
    "img_resize = cv2.resize(img,(300,300),interpolation=cv2.INTER_AREA)\n",
    "display(\"resized image\",img_resize)"
   ]
  },
  {
   "cell_type": "code",
   "execution_count": 32,
   "metadata": {},
   "outputs": [],
   "source": [
    "cv2.imshow(\"original\",img)\n",
    "cv2.imshow(\"resized image\", img_resize)\n",
    "cv2.waitKey(0)\n",
    "cv2.destroyAllWindows()"
   ]
  },
  {
   "cell_type": "markdown",
   "metadata": {},
   "source": [
    "Flipping"
   ]
  },
  {
   "cell_type": "code",
   "execution_count": 11,
   "metadata": {},
   "outputs": [],
   "source": [
    "flip_0 = cv2.flip(img,0) # 1, -1, 0\n",
    "flip_1 = cv2.flip(img,1) # 1, -1, 0\n",
    "flip_neg_1 = cv2.flip(img,-1) # 1, -1, 0"
   ]
  },
  {
   "cell_type": "code",
   "execution_count": 14,
   "metadata": {},
   "outputs": [],
   "source": [
    "cv2.imshow(\"flip vertical+horizontal\",flip_0)\n",
    "cv2.imshow(\"flip horizontally\",flip_1)\n",
    "cv2.imshow(\"flip vertically\",flip_neg_1)\n",
    "cv2.waitKey(0)\n",
    "cv2.destroyAllWindows()"
   ]
  },
  {
   "cell_type": "markdown",
   "metadata": {},
   "source": [
    "Cropping"
   ]
  },
  {
   "cell_type": "code",
   "execution_count": 25,
   "metadata": {},
   "outputs": [],
   "source": [
    "\n",
    "crop = img[80:500,100:500]\n",
    "cv2.imshow(\"crop\",crop)\n",
    "cv2.waitKey(0)\n",
    "cv2.destroyAllWindows()"
   ]
  },
  {
   "cell_type": "code",
   "execution_count": null,
   "metadata": {},
   "outputs": [],
   "source": []
  }
 ],
 "metadata": {
  "kernelspec": {
   "display_name": "Python 3.10.4 64-bit",
   "language": "python",
   "name": "python3"
  },
  "language_info": {
   "codemirror_mode": {
    "name": "ipython",
    "version": 3
   },
   "file_extension": ".py",
   "mimetype": "text/x-python",
   "name": "python",
   "nbconvert_exporter": "python",
   "pygments_lexer": "ipython3",
   "version": "3.10.4"
  },
  "orig_nbformat": 4,
  "vscode": {
   "interpreter": {
    "hash": "ffd44c0fe5a3ec242ee01199f8a2599f29a6a837f142006015371c54e41a6e4e"
   }
  }
 },
 "nbformat": 4,
 "nbformat_minor": 2
}
