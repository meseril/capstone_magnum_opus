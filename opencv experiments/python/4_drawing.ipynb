{
 "cells": [
  {
   "cell_type": "code",
   "execution_count": 51,
   "metadata": {},
   "outputs": [],
   "source": [
    "import numpy as np\n",
    "import cv2"
   ]
  },
  {
   "cell_type": "code",
   "execution_count": 2,
   "metadata": {},
   "outputs": [],
   "source": [
    "canvas = np.zeros((300,300,3), \"uint8\")"
   ]
  },
  {
   "cell_type": "code",
   "execution_count": 6,
   "metadata": {},
   "outputs": [],
   "source": [
    "def display(winname, image):\n",
    "    cv2.imshow(winname, image)\n",
    "    cv2.waitKey(0)\n",
    "    cv2.destroyAllWindows()"
   ]
  },
  {
   "cell_type": "code",
   "execution_count": 8,
   "metadata": {},
   "outputs": [],
   "source": [
    "display('canvas',canvas)"
   ]
  },
  {
   "cell_type": "code",
   "execution_count": 22,
   "metadata": {},
   "outputs": [],
   "source": [
    "red = (0,0,255)\n",
    "green = (0,255,0)\n",
    "blue = (255,0,0)\n",
    "cv2.line(canvas,(0,0),(300,300),red,2)\n",
    "cv2.line(canvas,(300,0),(0,300),green,1)\n",
    "display('display canvas', canvas)"
   ]
  },
  {
   "cell_type": "code",
   "execution_count": 34,
   "metadata": {},
   "outputs": [],
   "source": [
    "#drawing rectangle\n",
    "cv2.rectangle(canvas,(100,100),(250,250),blue,5)\n",
    "display('canvas',canvas)\n",
    "cv2.rectangle(canvas,(200,50),(225,200),blue,-1)\n",
    "display('canvas',canvas)"
   ]
  },
  {
   "cell_type": "code",
   "execution_count": 54,
   "metadata": {},
   "outputs": [],
   "source": [
    "# drawing circle\n",
    "canvas = np.zeros((300,300,3),'uint8') # make fresh blank canvas\n",
    "centerx, centery = (canvas.shape[1]//2, canvas.shape[0]//2)\n",
    "white = (255,255,255)\n",
    "\n",
    "for r in range(0,100,25):\n",
    "    cv2.circle(canvas,(centerx,centery),r,white)\n",
    "\n",
    "display('circle',canvas)"
   ]
  },
  {
   "cell_type": "code",
   "execution_count": null,
   "metadata": {},
   "outputs": [],
   "source": []
  },
  {
   "cell_type": "code",
   "execution_count": 81,
   "metadata": {},
   "outputs": [
    {
     "data": {
      "text/plain": [
       "True"
      ]
     },
     "execution_count": 81,
     "metadata": {},
     "output_type": "execute_result"
    }
   ],
   "source": [
    "# abstract drawing\n",
    "for i in range(0,25):\n",
    "    radius = np.random.randint(5,200)\n",
    "    color = np.random.randint(0,256, size=(3,)).tolist()\n",
    "    pt = np.random.randint(0,300,size=(2,))\n",
    "\n",
    "    cv2.circle(canvas, tuple(pt), radius, color, -1)\n",
    "\n",
    "display('canvas', canvas)\n",
    "cv2.imwrite('./images/abstract2.png',canvas)"
   ]
  },
  {
   "cell_type": "code",
   "execution_count": null,
   "metadata": {},
   "outputs": [],
   "source": []
  },
  {
   "cell_type": "code",
   "execution_count": null,
   "metadata": {},
   "outputs": [],
   "source": []
  },
  {
   "cell_type": "code",
   "execution_count": null,
   "metadata": {},
   "outputs": [],
   "source": []
  }
 ],
 "metadata": {
  "kernelspec": {
   "display_name": "Python 3.10.4 64-bit",
   "language": "python",
   "name": "python3"
  },
  "language_info": {
   "codemirror_mode": {
    "name": "ipython",
    "version": 3
   },
   "file_extension": ".py",
   "mimetype": "text/x-python",
   "name": "python",
   "nbconvert_exporter": "python",
   "pygments_lexer": "ipython3",
   "version": "3.10.4"
  },
  "orig_nbformat": 4,
  "vscode": {
   "interpreter": {
    "hash": "ffd44c0fe5a3ec242ee01199f8a2599f29a6a837f142006015371c54e41a6e4e"
   }
  }
 },
 "nbformat": 4,
 "nbformat_minor": 2
}
