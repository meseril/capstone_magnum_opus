{
 "cells": [
  {
   "cell_type": "code",
   "execution_count": 2,
   "metadata": {},
   "outputs": [],
   "source": [
    "import cv2\n",
    "import numpy as np"
   ]
  },
  {
   "cell_type": "markdown",
   "metadata": {},
   "source": [
    "### Grayscale"
   ]
  },
  {
   "cell_type": "code",
   "execution_count": 8,
   "metadata": {},
   "outputs": [
    {
     "name": "stdout",
     "output_type": "stream",
     "text": [
      "(185, 272)\n",
      "[[ 96 103 111 ... 201 201 201]\n",
      " [ 89  96 104 ... 196 196 196]\n",
      " [ 81  89  97 ... 189 189 189]\n",
      " ...\n",
      " [ 44  44  44 ... 135 133 132]\n",
      " [ 45  45  45 ... 140 139 137]\n",
      " [ 47  47  48 ... 139 137 135]]\n"
     ]
    }
   ],
   "source": [
    "image = cv2.imread(\"./camus.jpg\", cv2.IMREAD_GRAYSCALE)\n",
    "print(image.shape)\n",
    "print(image)"
   ]
  },
  {
   "cell_type": "code",
   "execution_count": 9,
   "metadata": {},
   "outputs": [],
   "source": [
    "cv2.imshow(\"albert camus\", image)\n",
    "cv2.waitKey()\n",
    "cv2.destroyAllWindows()"
   ]
  },
  {
   "cell_type": "markdown",
   "metadata": {},
   "source": [
    "### Colored image"
   ]
  },
  {
   "cell_type": "code",
   "execution_count": 4,
   "metadata": {},
   "outputs": [],
   "source": [
    "original = cv2.imread(\"./cv_course_materials/bird.jpg\", cv2.IMREAD_COLOR)\n"
   ]
  },
  {
   "cell_type": "code",
   "execution_count": 5,
   "metadata": {},
   "outputs": [],
   "source": [
    "cv2.imshow(\"original image\", original)\n",
    "cv2.imshow(\"result_image\", result_image)\n",
    "cv2.waitKey()\n",
    "cv2.destroyAllWindows()"
   ]
  },
  {
   "cell_type": "markdown",
   "metadata": {},
   "source": [
    "### Edge Detection"
   ]
  },
  {
   "cell_type": "code",
   "execution_count": 9,
   "metadata": {},
   "outputs": [],
   "source": [
    "original = cv2.imread(\"./cv_course_materials/bird.jpg\", cv2.IMREAD_COLOR)\n",
    "\n",
    "# we have to transform the image into grayscale\n",
    "gray_image = cv2.cvtColor(original,cv2.COLOR_BGR2GRAY)\n",
    "\n",
    "# lalacian kernel\n",
    "kernel = np.array([[0,1,0],[1,-4,1],[0,1,0]])\n",
    "\n",
    "result_image = cv2.Laplacian(gray_image,-1)\n",
    "\n",
    "kernel = np.ones((5,5))/25\n",
    "blur_image = cv2.filter2D(original,-1,kernel)\n",
    "\n",
    "#gaussian blur to reduce noice in an image\n"
   ]
  },
  {
   "cell_type": "code",
   "execution_count": 10,
   "metadata": {},
   "outputs": [],
   "source": [
    "cv2.imshow(\"original image\", gray_image)\n",
    "cv2.imshow(\"result_image\", result_image)\n",
    "cv2.waitKey()\n",
    "cv2.destroyAllWindows()"
   ]
  },
  {
   "cell_type": "markdown",
   "metadata": {},
   "source": [
    "### Sharpen Image"
   ]
  },
  {
   "cell_type": "code",
   "execution_count": 17,
   "metadata": {},
   "outputs": [],
   "source": [
    "original = cv2.imread(\"./cv_course_materials/bird.jpg\", cv2.IMREAD_COLOR)\n",
    "\n",
    "# sharpen kernel\n",
    "# if blurry video or image apply sharpen kernel\n",
    "kernel = np.array([[0,-1,0],[-1,5,-1],[0,-1,0]])\n",
    "\n",
    "sharpen_image = cv2.filter2D(original,-1,kernel)\n"
   ]
  },
  {
   "cell_type": "code",
   "execution_count": 18,
   "metadata": {},
   "outputs": [],
   "source": [
    "cv2.imshow(\"original image\", original)\n",
    "cv2.imshow(\"sharpen_image\", sharpen_image)\n",
    "cv2.waitKey()\n",
    "cv2.destroyAllWindows()"
   ]
  },
  {
   "cell_type": "code",
   "execution_count": null,
   "metadata": {},
   "outputs": [],
   "source": []
  }
 ],
 "metadata": {
  "kernelspec": {
   "display_name": "Python 3.10.4 64-bit",
   "language": "python",
   "name": "python3"
  },
  "language_info": {
   "codemirror_mode": {
    "name": "ipython",
    "version": 3
   },
   "file_extension": ".py",
   "mimetype": "text/x-python",
   "name": "python",
   "nbconvert_exporter": "python",
   "pygments_lexer": "ipython3",
   "version": "3.10.4"
  },
  "orig_nbformat": 4,
  "vscode": {
   "interpreter": {
    "hash": "ffd44c0fe5a3ec242ee01199f8a2599f29a6a837f142006015371c54e41a6e4e"
   }
  }
 },
 "nbformat": 4,
 "nbformat_minor": 2
}
