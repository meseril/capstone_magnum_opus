{
 "cells": [
  {
   "cell_type": "code",
   "execution_count": 11,
   "metadata": {},
   "outputs": [
    {
     "name": "stdout",
     "output_type": "stream",
     "text": [
      "There once was a man named Tommy,\n",
      "he was 30 years old.\n",
      "He really wanted the name John,\n",
      "but didn't get the chance until he was 30.\n",
      "i\n"
     ]
    }
   ],
   "source": [
    "character_name = \"Tommy\"\n",
    "character_age = str(30)\n",
    "is_male = False\n",
    "\n",
    "print(\"There once was a man named \" + character_name +\",\")\n",
    "print(\"he was \" + character_age + \" years old.\")\n",
    "\n",
    "character_name = \"John\";\n",
    "print(\"He really wanted the name \" + character_name+\",\")\n",
    "print(\"but didn't get the chance until he was \"+ character_age+\".\")\n",
    "\n",
    "phrase = \"\\n\\nadfinem rising\"\n",
    "phrase_2 = \" is cool\"\n",
    "\n",
    "print(phrase_2[1])"
   ]
  },
  {
   "cell_type": "code",
   "execution_count": 12,
   "metadata": {},
   "outputs": [
    {
     "ename": "KeyboardInterrupt",
     "evalue": "",
     "output_type": "error",
     "traceback": [
      "\u001b[1;31m---------------------------------------------------------------------------\u001b[0m",
      "\u001b[1;31mKeyboardInterrupt\u001b[0m                         Traceback (most recent call last)",
      "\u001b[1;32mc:\\Users\\Server_PC\\Documents\\python\\python_notebook.ipynb Cell 2'\u001b[0m in \u001b[0;36m<cell line: 9>\u001b[1;34m()\u001b[0m\n\u001b[0;32m     <a href='vscode-notebook-cell:/c%3A/Users/Server_PC/Documents/python/python_notebook.ipynb#ch0000001?line=20'>21</a>\u001b[0m \u001b[39melse\u001b[39;00m:\n\u001b[0;32m     <a href='vscode-notebook-cell:/c%3A/Users/Server_PC/Documents/python/python_notebook.ipynb#ch0000001?line=21'>22</a>\u001b[0m     b\u001b[39m-\u001b[39m\u001b[39m=\u001b[39m\u001b[39m3\u001b[39m\n\u001b[1;32m---> <a href='vscode-notebook-cell:/c%3A/Users/Server_PC/Documents/python/python_notebook.ipynb#ch0000001?line=22'>23</a>\u001b[0m fd(\u001b[39m50\u001b[39;49m\u001b[39m+\u001b[39;49mi)\n\u001b[0;32m     <a href='vscode-notebook-cell:/c%3A/Users/Server_PC/Documents/python/python_notebook.ipynb#ch0000001?line=23'>24</a>\u001b[0m rt(\u001b[39m91\u001b[39m)\n\u001b[0;32m     <a href='vscode-notebook-cell:/c%3A/Users/Server_PC/Documents/python/python_notebook.ipynb#ch0000001?line=24'>25</a>\u001b[0m pencolor(r,g,b)\n",
      "File \u001b[1;32m<string>:8\u001b[0m, in \u001b[0;36mfd\u001b[1;34m(distance)\u001b[0m\n",
      "File \u001b[1;32mc:\\Users\\Server_PC\\AppData\\Local\\Programs\\Python\\Python310\\lib\\turtle.py:1638\u001b[0m, in \u001b[0;36mTNavigator.forward\u001b[1;34m(self, distance)\u001b[0m\n\u001b[0;32m   1617\u001b[0m \u001b[39mdef\u001b[39;00m \u001b[39mforward\u001b[39m(\u001b[39mself\u001b[39m, distance):\n\u001b[0;32m   1618\u001b[0m     \u001b[39m\"\"\"Move the turtle forward by the specified distance.\u001b[39;00m\n\u001b[0;32m   1619\u001b[0m \n\u001b[0;32m   1620\u001b[0m \u001b[39m    Aliases: forward | fd\u001b[39;00m\n\u001b[1;32m   (...)\u001b[0m\n\u001b[0;32m   1636\u001b[0m \u001b[39m    (-50.00,0.00)\u001b[39;00m\n\u001b[0;32m   1637\u001b[0m \u001b[39m    \"\"\"\u001b[39;00m\n\u001b[1;32m-> 1638\u001b[0m     \u001b[39mself\u001b[39;49m\u001b[39m.\u001b[39;49m_go(distance)\n",
      "File \u001b[1;32mc:\\Users\\Server_PC\\AppData\\Local\\Programs\\Python\\Python310\\lib\\turtle.py:1606\u001b[0m, in \u001b[0;36mTNavigator._go\u001b[1;34m(self, distance)\u001b[0m\n\u001b[0;32m   1604\u001b[0m \u001b[39m\"\"\"move turtle forward by specified distance\"\"\"\u001b[39;00m\n\u001b[0;32m   1605\u001b[0m ende \u001b[39m=\u001b[39m \u001b[39mself\u001b[39m\u001b[39m.\u001b[39m_position \u001b[39m+\u001b[39m \u001b[39mself\u001b[39m\u001b[39m.\u001b[39m_orient \u001b[39m*\u001b[39m distance\n\u001b[1;32m-> 1606\u001b[0m \u001b[39mself\u001b[39;49m\u001b[39m.\u001b[39;49m_goto(ende)\n",
      "File \u001b[1;32mc:\\Users\\Server_PC\\AppData\\Local\\Programs\\Python\\Python310\\lib\\turtle.py:3197\u001b[0m, in \u001b[0;36mRawTurtle._goto\u001b[1;34m(self, end)\u001b[0m\n\u001b[0;32m   3194\u001b[0m \u001b[39mif\u001b[39;00m \u001b[39mlen\u001b[39m(\u001b[39mself\u001b[39m\u001b[39m.\u001b[39mcurrentLine) \u001b[39m>\u001b[39m \u001b[39m42\u001b[39m: \u001b[39m# 42! answer to the ultimate question\u001b[39;00m\n\u001b[0;32m   3195\u001b[0m                                \u001b[39m# of life, the universe and everything\u001b[39;00m\n\u001b[0;32m   3196\u001b[0m     \u001b[39mself\u001b[39m\u001b[39m.\u001b[39m_newLine()\n\u001b[1;32m-> 3197\u001b[0m \u001b[39mself\u001b[39;49m\u001b[39m.\u001b[39;49m_update()\n",
      "File \u001b[1;32mc:\\Users\\Server_PC\\AppData\\Local\\Programs\\Python\\Python310\\lib\\turtle.py:2663\u001b[0m, in \u001b[0;36mRawTurtle._update\u001b[1;34m(self)\u001b[0m\n\u001b[0;32m   2661\u001b[0m     \u001b[39mself\u001b[39m\u001b[39m.\u001b[39m_update_data()\n\u001b[0;32m   2662\u001b[0m     \u001b[39mself\u001b[39m\u001b[39m.\u001b[39m_drawturtle()\n\u001b[1;32m-> 2663\u001b[0m     screen\u001b[39m.\u001b[39;49m_update()                  \u001b[39m# TurtleScreenBase\u001b[39;00m\n\u001b[0;32m   2664\u001b[0m     screen\u001b[39m.\u001b[39m_delay(screen\u001b[39m.\u001b[39m_delayvalue) \u001b[39m# TurtleScreenBase\u001b[39;00m\n\u001b[0;32m   2665\u001b[0m \u001b[39melse\u001b[39;00m:\n",
      "File \u001b[1;32mc:\\Users\\Server_PC\\AppData\\Local\\Programs\\Python\\Python310\\lib\\turtle.py:561\u001b[0m, in \u001b[0;36mTurtleScreenBase._update\u001b[1;34m(self)\u001b[0m\n\u001b[0;32m    558\u001b[0m \u001b[39mdef\u001b[39;00m \u001b[39m_update\u001b[39m(\u001b[39mself\u001b[39m):\n\u001b[0;32m    559\u001b[0m     \u001b[39m\"\"\"Redraw graphics items on canvas\u001b[39;00m\n\u001b[0;32m    560\u001b[0m \u001b[39m    \"\"\"\u001b[39;00m\n\u001b[1;32m--> 561\u001b[0m     \u001b[39mself\u001b[39;49m\u001b[39m.\u001b[39;49mcv\u001b[39m.\u001b[39;49mupdate()\n",
      "File \u001b[1;32mc:\\Users\\Server_PC\\AppData\\Local\\Programs\\Python\\Python310\\lib\\tkinter\\__init__.py:1343\u001b[0m, in \u001b[0;36mMisc.update\u001b[1;34m(self)\u001b[0m\n\u001b[0;32m   1341\u001b[0m \u001b[39mdef\u001b[39;00m \u001b[39mupdate\u001b[39m(\u001b[39mself\u001b[39m):\n\u001b[0;32m   1342\u001b[0m     \u001b[39m\"\"\"Enter event loop until all pending events have been processed by Tcl.\"\"\"\u001b[39;00m\n\u001b[1;32m-> 1343\u001b[0m     \u001b[39mself\u001b[39;49m\u001b[39m.\u001b[39;49mtk\u001b[39m.\u001b[39;49mcall(\u001b[39m'\u001b[39;49m\u001b[39mupdate\u001b[39;49m\u001b[39m'\u001b[39;49m)\n",
      "\u001b[1;31mKeyboardInterrupt\u001b[0m: "
     ]
    }
   ],
   "source": [
    "import turtle\n",
    "from turtle import *\n",
    "\n",
    "turtle.title(\"rainbow spiral\")\n",
    "speed(15)\n",
    "bgcolor(\"black\")\n",
    "r,g,b=255,0,0\n",
    "\n",
    "for i in range(255*2):\n",
    "    colormode(255)\n",
    "    if i<255//3:\n",
    "        g+=3\n",
    "    elif i<255*2//3:\n",
    "        r-=3\n",
    "    elif i<255:\n",
    "        b+=3\n",
    "    elif i<255*4//3:\n",
    "        g-=3\n",
    "    elif i<255*5//3:\n",
    "        r+=3\n",
    "    else:\n",
    "        b-=3\n",
    "    fd(50+i)\n",
    "    rt(91)\n",
    "    pencolor(r,g,b)\n",
    "\n",
    "done()"
   ]
  },
  {
   "cell_type": "code",
   "execution_count": null,
   "metadata": {},
   "outputs": [
    {
     "name": "stdout",
     "output_type": "stream",
     "text": [
      "hello me\n"
     ]
    }
   ],
   "source": [
    "name = input(\"enter your name\")\n",
    "print(\"hello \"+name) "
   ]
  },
  {
   "cell_type": "code",
   "execution_count": null,
   "metadata": {},
   "outputs": [
    {
     "name": "stdout",
     "output_type": "stream",
     "text": [
      "The result is 3.0\n"
     ]
    }
   ],
   "source": [
    "num1 = input(\"Enter num1: \")\n",
    "num2 = input(\"Enter num2: \")\n",
    "result = float(num1) + float(num2)\n",
    "print(\"The result is \" + str(result))"
   ]
  },
  {
   "cell_type": "code",
   "execution_count": null,
   "metadata": {},
   "outputs": [
    {
     "name": "stdout",
     "output_type": "stream",
     "text": [
      "9\n"
     ]
    }
   ],
   "source": [
    "#working with numbers\n",
    "#print(2*(2+1))\n",
    "my_num= -5\n",
    "#print(str(abs(my_num)) + \" is my favorite number\")\n",
    "print(pow(3,2))\n"
   ]
  },
  {
   "cell_type": "code",
   "execution_count": null,
   "metadata": {},
   "outputs": [
    {
     "name": "stdout",
     "output_type": "stream",
     "text": [
      "hi, jr! nice to meet you! =)\n",
      "i didn't know you are already 30\n"
     ]
    }
   ],
   "source": [
    "person_name = input(\"Enter your name: \")\n",
    "person_age = input(\"Enter your age: \")\n",
    "print(\"hi, \"+person_name+\"! nice to meet you! =)\")\n",
    "print(\"i didn't know you are already \"+str(person_age))"
   ]
  },
  {
   "cell_type": "code",
   "execution_count": null,
   "metadata": {},
   "outputs": [
    {
     "name": "stdout",
     "output_type": "stream",
     "text": [
      "2\n"
     ]
    }
   ],
   "source": [
    "num1 = input(\"Enter a number: \")\n",
    "num2 = input(\"Enter another number: \")\n",
    "result = int(num1) + int(num2)\n",
    "print(result)"
   ]
  },
  {
   "cell_type": "code",
   "execution_count": null,
   "metadata": {},
   "outputs": [
    {
     "name": "stdout",
     "output_type": "stream",
     "text": [
      "Rose are \n",
      " are blue\n",
      "I love \n"
     ]
    }
   ],
   "source": [
    "choice_color = input(\"Enter a color: \")\n",
    "choice_plural_noun = input(\"Enter a plural noun: \")\n",
    "choice_celebrity = input(\"Enter a celebrity: \")\n",
    "\n",
    "print(\"Rose are \" + choice_color)\n",
    "print(choice_plural_noun +\" are blue\")\n",
    "print(\"I love \"+choice_celebrity)"
   ]
  },
  {
   "cell_type": "code",
   "execution_count": null,
   "metadata": {},
   "outputs": [
    {
     "name": "stdout",
     "output_type": "stream",
     "text": [
      "jas\n",
      "['ace', 'jas', 'nold', 'tite']\n"
     ]
    }
   ],
   "source": [
    " numbers = [3,5,8,1]\n",
    " friends = [\"ace\",\"jas\",\"nold\",\"tite\"]\n",
    " #friends.insert(1,\"ako\")\n",
    " print(friends[1])\n",
    " numbers.reverse()\n",
    "\n",
    "friends2 = friends.copy()\n",
    "\n",
    " print(friends2)"
   ]
  },
  {
   "cell_type": "code",
   "execution_count": null,
   "metadata": {},
   "outputs": [
    {
     "name": "stdout",
     "output_type": "stream",
     "text": [
      "Hello itot, you are 10 years old now\n"
     ]
    }
   ],
   "source": [
    "def say_hi(name, age):\n",
    "    print(\"Hello \" + name + \", you are \" + age + \" years old now\")\n",
    "\n",
    "say_hi(\"itot\", \"10\")\n",
    " "
   ]
  },
  {
   "cell_type": "code",
   "execution_count": null,
   "metadata": {},
   "outputs": [
    {
     "name": "stdout",
     "output_type": "stream",
     "text": [
      "125\n"
     ]
    }
   ],
   "source": [
    "def cube(num):\n",
    "     return print(num*num*num)\n",
    "#---\n",
    "cube(int(input(\"Enter a number\")))"
   ]
  },
  {
   "cell_type": "code",
   "execution_count": null,
   "metadata": {},
   "outputs": [
    {
     "name": "stdout",
     "output_type": "stream",
     "text": [
      "you are a male but not tall\n"
     ]
    }
   ],
   "source": [
    "is_male = True\n",
    "is_tall = False\n",
    "\n",
    "if is_male and is_tall:\n",
    "    print(\"you are a tall male\")\n",
    "elif is_male and not is_tall:\n",
    "    print(\"you are a male but not tall\")\n",
    "elif not is_male and is_tall:\n",
    "    print(\"you are not a male but are tall\")\n",
    "else:\n",
    "    print(\"You are neither male or tall\")\n"
   ]
  },
  {
   "cell_type": "code",
   "execution_count": null,
   "metadata": {},
   "outputs": [
    {
     "name": "stdout",
     "output_type": "stream",
     "text": [
      "3\n"
     ]
    }
   ],
   "source": [
    "def max_num(num1,num2,num3):\n",
    "    if num1 >= num2 and num1 >= num3:\n",
    "        return num1\n",
    "    elif num2 >= num1 and num1 >= num3:\n",
    "        return num2\n",
    "    else:\n",
    "        return num3\n",
    "#---\n",
    "num1 = input(\"enter value for num1\")\n",
    "num2 = input(\"enter value for num2\")\n",
    "num3 = input(\"enter value for num3\")\n",
    "print(max_num(num1,num2,num3))\n"
   ]
  },
  {
   "cell_type": "code",
   "execution_count": 1,
   "metadata": {},
   "outputs": [
    {
     "name": "stdout",
     "output_type": "stream",
     "text": [
      "well well well \n",
      "hello there\n"
     ]
    }
   ],
   "source": [
    "x = 'well '\n",
    "y = 3\n",
    "\n",
    "print(x * y)\n",
    "\n",
    "x = 'hello '\n",
    "y = 'there'\n",
    "\n",
    "print(x+y)"
   ]
  },
  {
   "cell_type": "code",
   "execution_count": 12,
   "metadata": {},
   "outputs": [
    {
     "name": "stdout",
     "output_type": "stream",
     "text": [
      "True\n",
      "97\n",
      "False\n"
     ]
    }
   ],
   "source": [
    "# == checking for equality\n",
    "# != checking if not equal\n",
    "# <=\n",
    "# >=\n",
    "# <\n",
    "# >\n",
    "\n",
    "x = 'hello'\n",
    "y = 'hello'\n",
    "\n",
    "#print(x!=y)\n",
    "print ('a' > 'Z')\n",
    "print(ord('a'))\n",
    "print(7.5 <= 7)"
   ]
  },
  {
   "cell_type": "code",
   "execution_count": 9,
   "metadata": {},
   "outputs": [
    {
     "name": "stdout",
     "output_type": "stream",
     "text": [
      "oh yea baby!\n"
     ]
    }
   ],
   "source": [
    "x = input(\"Enter name: \")\n",
    "\n",
    "if x == \"Tim\":\n",
    "    print(\"You are great!\")\n",
    "elif x == \"Sex\":\n",
    "    print(\"oh yea baby!\")\n",
    "else:\n",
    "    print(\"You are not Tim\")\n",
    "\n"
   ]
  },
  {
   "cell_type": "code",
   "execution_count": 4,
   "metadata": {},
   "outputs": [
    {
     "name": "stdout",
     "output_type": "stream",
     "text": [
      "7 5\n"
     ]
    }
   ],
   "source": [
    "x = [4 , True , 'hi']\n",
    "y = 'hello'\n",
    "x.append('yo')\n",
    "x.extend([1,2,3])\n",
    "print(len(x),len(y))"
   ]
  },
  {
   "cell_type": "code",
   "execution_count": 4,
   "metadata": {},
   "outputs": [
    {
     "name": "stdout",
     "output_type": "stream",
     "text": [
      "tite\n"
     ]
    }
   ],
   "source": [
    "x = [4,True, 'hi']\n",
    "x[0] = 'tite'\n",
    "print(x[0]) "
   ]
  },
  {
   "cell_type": "code",
   "execution_count": 7,
   "metadata": {},
   "outputs": [
    {
     "name": "stdout",
     "output_type": "stream",
     "text": [
      "1\n",
      "2\n",
      "3\n",
      "4\n",
      "5\n"
     ]
    }
   ],
   "source": [
    "for i in [1,2,3,4,5]:\n",
    "    print(i)"
   ]
  },
  {
   "cell_type": "code",
   "execution_count": 8,
   "metadata": {},
   "outputs": [
    {
     "name": "stdout",
     "output_type": "stream",
     "text": [
      "0 1\n",
      "1 2\n",
      "2 3\n"
     ]
    }
   ],
   "source": [
    "x=[1,2,3]\n",
    "for i, element in enumerate(x):\n",
    "    print(i,element)\n"
   ]
  },
  {
   "cell_type": "code",
   "execution_count": 2,
   "metadata": {},
   "outputs": [
    {
     "name": "stdout",
     "output_type": "stream",
     "text": [
      "run\n",
      "run\n",
      "run\n",
      "run\n",
      "run\n",
      "run\n",
      "run\n",
      "run\n",
      "run\n",
      "run\n"
     ]
    }
   ],
   "source": [
    "#while condition == true\n",
    "i = 0 \n",
    "#while i < 10:\n",
    "#    print('run')\n",
    "#    i += 1\n",
    "#    break\n",
    "\n",
    "while True:\n",
    "    i += 1\n",
    "    print('run')\n",
    "    if i == 10:\n",
    "        break\n",
    "    "
   ]
  },
  {
   "cell_type": "code",
   "execution_count": null,
   "metadata": {},
   "outputs": [],
   "source": []
  }
 ],
 "metadata": {
  "interpreter": {
   "hash": "ffd44c0fe5a3ec242ee01199f8a2599f29a6a837f142006015371c54e41a6e4e"
  },
  "kernelspec": {
   "display_name": "Python 3.10.4 64-bit",
   "language": "python",
   "name": "python3"
  },
  "language_info": {
   "codemirror_mode": {
    "name": "ipython",
    "version": 3
   },
   "file_extension": ".py",
   "mimetype": "text/x-python",
   "name": "python",
   "nbconvert_exporter": "python",
   "pygments_lexer": "ipython3",
   "version": "3.10.4"
  },
  "orig_nbformat": 4
 },
 "nbformat": 4,
 "nbformat_minor": 2
}
