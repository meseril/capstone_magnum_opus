{
 "cells": [
  {
   "cell_type": "code",
   "execution_count": 1,
   "metadata": {},
   "outputs": [],
   "source": [
    "import numpy as np\n",
    "import cv2"
   ]
  },
  {
   "cell_type": "markdown",
   "metadata": {},
   "source": [
    "Load the Image"
   ]
  },
  {
   "cell_type": "code",
   "execution_count": 3,
   "metadata": {},
   "outputs": [],
   "source": [
    "img = cv2.imread(\".images/friends.jpg\")"
   ]
  },
  {
   "cell_type": "code",
   "execution_count": 16,
   "metadata": {},
   "outputs": [],
   "source": [
    "cv2.imshow(\"original\",img)\n",
    "cv2.waitKey(0)\n",
    "cv2.destroyAllWindows()"
   ]
  },
  {
   "cell_type": "markdown",
   "metadata": {},
   "source": [
    "![image](images/pencil_sketch_flow.png)"
   ]
  },
  {
   "cell_type": "markdown",
   "metadata": {},
   "source": [
    "step-1 conver image into grayscale"
   ]
  },
  {
   "cell_type": "code",
   "execution_count": 17,
   "metadata": {},
   "outputs": [],
   "source": [
    "gray = cv2.cvtColor(img,cv2.COLOR_BGR2GRAY)"
   ]
  },
  {
   "cell_type": "markdown",
   "metadata": {},
   "source": [
    "step-2: apply the gaussian blur to the image"
   ]
  },
  {
   "cell_type": "code",
   "execution_count": 20,
   "metadata": {},
   "outputs": [],
   "source": [
    "gaussian_blur = cv2.GaussianBlur(gray,(5,5),0)"
   ]
  },
  {
   "cell_type": "markdown",
   "metadata": {},
   "source": [
    "step-3 division image"
   ]
  },
  {
   "cell_type": "code",
   "execution_count": 22,
   "metadata": {},
   "outputs": [],
   "source": [
    "division_img = cv2.divide(gray,gaussian_blur,scale=256)"
   ]
  },
  {
   "cell_type": "markdown",
   "metadata": {},
   "source": [
    "step-4 adjusting gamma factor"
   ]
  },
  {
   "cell_type": "code",
   "execution_count": 31,
   "metadata": {},
   "outputs": [],
   "source": [
    "gamma = 0.1\n",
    "if gamma == 0:\n",
    "    gamme = 0.01\n",
    "\n",
    "invgamma = 1/gamma\n",
    "lut = np.array([((i / 255.0) ** invgamma) * 255\n",
    "        for i in np.arange(0, 256)]).astype(\"uint8\")\n",
    "pencil_sketch_img = cv2.LUT(division_img.astype(\"uint8\"),lut.astype(\"uint8\"))"
   ]
  },
  {
   "cell_type": "code",
   "execution_count": 2,
   "metadata": {},
   "outputs": [],
   "source": [
    "def pencil_sketch(img,ksize,gamma):\n",
    "    gray = cv2.cvtColor(img,cv2.COLOR_BGR2GRAY)\n",
    "    gaussian_blur = cv2.GaussianBlur(gray,(ksize,ksize),0)\n",
    "    division_img = cv2.divide(gray,gaussian_blur,scale=256)\n",
    "    if gamma == 0:\n",
    "          gamme = 0.01\n",
    "    elif gamma < 0:\n",
    "      raise Exception(\"Cannot be Negative\",\"Gamma value cannot be negative number (range between 0.1 and 1)\")\n",
    "    elif gamma > 1:\n",
    "      raise Exception(\"Cannot be Greater than 1\",\"Gamma value cannot be Greater than 1 (range between 0.1 and 1)\")\n",
    "    invgamma = 1/gamma\n",
    "    lut = np.array([((i / 255.0) ** invgamma) * 255\n",
    "            for i in np.arange(0, 256)]).astype(\"uint8\")\n",
    "    pencil_sketch_img = cv2.LUT(division_img.astype(\"uint8\"),lut.astype(\"uint8\"))\n",
    "    \n",
    "    return pencil_sketch_img\n",
    "\n"
   ]
  },
  {
   "cell_type": "code",
   "execution_count": 42,
   "metadata": {},
   "outputs": [],
   "source": [
    "pencil_sketch_img = pencil_sketch(img,7,0.3)\n",
    "cv2.imshow(\"original\",img)\n",
    "cv2.imshow(\"pencil_sketch_img\",pencil_sketch_img)\n",
    "cv2.waitKey(0)\n",
    "cv2.destroyAllWindows()"
   ]
  },
  {
   "cell_type": "markdown",
   "metadata": {},
   "source": [
    "GUI for Pencil Sketch"
   ]
  },
  {
   "cell_type": "code",
   "execution_count": 3,
   "metadata": {},
   "outputs": [
    {
     "ename": "ZeroDivisionError",
     "evalue": "float division by zero",
     "output_type": "error",
     "traceback": [
      "\u001b[1;31m---------------------------------------------------------------------------\u001b[0m",
      "\u001b[1;31mZeroDivisionError\u001b[0m                         Traceback (most recent call last)",
      "\u001b[1;32mc:\\Users\\Server_PC\\Documents\\python\\pencil_sketch.ipynb Cell 3'\u001b[0m in \u001b[0;36m<cell line: 8>\u001b[1;34m()\u001b[0m\n\u001b[0;32m     <a href='vscode-notebook-cell:/c%3A/Users/Server_PC/Documents/python/pencil_sketch.ipynb#ch0000002?line=13'>14</a>\u001b[0m g \u001b[39m=\u001b[39m cv2\u001b[39m.\u001b[39mgetTrackbarPos(\u001b[39m\"\u001b[39m\u001b[39mgamma\u001b[39m\u001b[39m\"\u001b[39m,\u001b[39m\"\u001b[39m\u001b[39mControl Panel\u001b[39m\u001b[39m\"\u001b[39m)\n\u001b[0;32m     <a href='vscode-notebook-cell:/c%3A/Users/Server_PC/Documents/python/pencil_sketch.ipynb#ch0000002?line=14'>15</a>\u001b[0m g \u001b[39m=\u001b[39m g\u001b[39m/\u001b[39m\u001b[39m100\u001b[39m\n\u001b[1;32m---> <a href='vscode-notebook-cell:/c%3A/Users/Server_PC/Documents/python/pencil_sketch.ipynb#ch0000002?line=15'>16</a>\u001b[0m pencil_img \u001b[39m=\u001b[39m pencil_sketch(image,k,g)\n\u001b[0;32m     <a href='vscode-notebook-cell:/c%3A/Users/Server_PC/Documents/python/pencil_sketch.ipynb#ch0000002?line=17'>18</a>\u001b[0m cv2\u001b[39m.\u001b[39mimshow(\u001b[39m\"\u001b[39m\u001b[39mPencil Sketch\u001b[39m\u001b[39m\"\u001b[39m, pencil_img)\n\u001b[0;32m     <a href='vscode-notebook-cell:/c%3A/Users/Server_PC/Documents/python/pencil_sketch.ipynb#ch0000002?line=18'>19</a>\u001b[0m \u001b[39mif\u001b[39;00m cv2\u001b[39m.\u001b[39mwaitKey(\u001b[39m1\u001b[39m) \u001b[39m==\u001b[39m \u001b[39m27\u001b[39m:\n",
      "\u001b[1;32mc:\\Users\\Server_PC\\Documents\\python\\pencil_sketch.ipynb Cell 14'\u001b[0m in \u001b[0;36mpencil_sketch\u001b[1;34m(img, ksize, gamma)\u001b[0m\n\u001b[0;32m      <a href='vscode-notebook-cell:/c%3A/Users/Server_PC/Documents/python/pencil_sketch.ipynb#ch0000013?line=8'>9</a>\u001b[0m \u001b[39melif\u001b[39;00m gamma \u001b[39m>\u001b[39m \u001b[39m1\u001b[39m:\n\u001b[0;32m     <a href='vscode-notebook-cell:/c%3A/Users/Server_PC/Documents/python/pencil_sketch.ipynb#ch0000013?line=9'>10</a>\u001b[0m   \u001b[39mraise\u001b[39;00m \u001b[39mException\u001b[39;00m(\u001b[39m\"\u001b[39m\u001b[39mCannot be Greater than 1\u001b[39m\u001b[39m\"\u001b[39m,\u001b[39m\"\u001b[39m\u001b[39mGamma value cannot be Greater than 1 (range between 0.1 and 1)\u001b[39m\u001b[39m\"\u001b[39m)\n\u001b[1;32m---> <a href='vscode-notebook-cell:/c%3A/Users/Server_PC/Documents/python/pencil_sketch.ipynb#ch0000013?line=10'>11</a>\u001b[0m invgamma \u001b[39m=\u001b[39m \u001b[39m1\u001b[39;49m\u001b[39m/\u001b[39;49mgamma\n\u001b[0;32m     <a href='vscode-notebook-cell:/c%3A/Users/Server_PC/Documents/python/pencil_sketch.ipynb#ch0000013?line=11'>12</a>\u001b[0m lut \u001b[39m=\u001b[39m np\u001b[39m.\u001b[39marray([((i \u001b[39m/\u001b[39m \u001b[39m255.0\u001b[39m) \u001b[39m*\u001b[39m\u001b[39m*\u001b[39m invgamma) \u001b[39m*\u001b[39m \u001b[39m255\u001b[39m\n\u001b[0;32m     <a href='vscode-notebook-cell:/c%3A/Users/Server_PC/Documents/python/pencil_sketch.ipynb#ch0000013?line=12'>13</a>\u001b[0m         \u001b[39mfor\u001b[39;00m i \u001b[39min\u001b[39;00m np\u001b[39m.\u001b[39marange(\u001b[39m0\u001b[39m, \u001b[39m256\u001b[39m)])\u001b[39m.\u001b[39mastype(\u001b[39m\"\u001b[39m\u001b[39muint8\u001b[39m\u001b[39m\"\u001b[39m)\n\u001b[0;32m     <a href='vscode-notebook-cell:/c%3A/Users/Server_PC/Documents/python/pencil_sketch.ipynb#ch0000013?line=13'>14</a>\u001b[0m pencil_sketch_img \u001b[39m=\u001b[39m cv2\u001b[39m.\u001b[39mLUT(division_img\u001b[39m.\u001b[39mastype(\u001b[39m\"\u001b[39m\u001b[39muint8\u001b[39m\u001b[39m\"\u001b[39m),lut\u001b[39m.\u001b[39mastype(\u001b[39m\"\u001b[39m\u001b[39muint8\u001b[39m\u001b[39m\"\u001b[39m))\n",
      "\u001b[1;31mZeroDivisionError\u001b[0m: float division by zero"
     ]
    }
   ],
   "source": [
    "image = cv2.imread(\"./images/ironman.jpg\")\n",
    "\n",
    "#create a control panel\n",
    "cv2.namedWindow(\"Control Panel\")\n",
    "cv2.createTrackbar(\"ksize\",\"Control Panel\",1,100,lambda x:None)\n",
    "cv2.createTrackbar(\"gamma\",\"Control Panel\",1,100,lambda x:None)\n",
    "\n",
    "while True:\n",
    "    # take ksize\n",
    "    k = cv2.getTrackbarPos(\"ksize\",\"Control Panel\")\n",
    "    # convert ksize into an odd number\n",
    "    k = 2*k + 1\n",
    "    #calibrate gamma to 0 -1 scale\n",
    "    g = cv2.getTrackbarPos(\"gamma\",\"Control Panel\")\n",
    "    g = g/100\n",
    "    pencil_img = pencil_sketch(image,k,g)\n",
    "\n",
    "    cv2.imshow(\"Pencil Sketch\", pencil_img)\n",
    "    if cv2.waitKey(1) == 27:\n",
    "        break\n",
    "\n",
    "\n",
    "cv2.destroyAllWindows()"
   ]
  },
  {
   "cell_type": "code",
   "execution_count": null,
   "metadata": {},
   "outputs": [],
   "source": []
  }
 ],
 "metadata": {
  "kernelspec": {
   "display_name": "Python 3.10.4 64-bit",
   "language": "python",
   "name": "python3"
  },
  "language_info": {
   "codemirror_mode": {
    "name": "ipython",
    "version": 3
   },
   "file_extension": ".py",
   "mimetype": "text/x-python",
   "name": "python",
   "nbconvert_exporter": "python",
   "pygments_lexer": "ipython3",
   "version": "3.10.4"
  },
  "orig_nbformat": 4,
  "vscode": {
   "interpreter": {
    "hash": "ffd44c0fe5a3ec242ee01199f8a2599f29a6a837f142006015371c54e41a6e4e"
   }
  }
 },
 "nbformat": 4,
 "nbformat_minor": 2
}
