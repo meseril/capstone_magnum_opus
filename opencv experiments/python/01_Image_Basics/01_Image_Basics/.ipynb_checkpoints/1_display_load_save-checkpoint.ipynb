{
 "cells": [
  {
   "cell_type": "markdown",
   "metadata": {},
   "source": [
    "### Image Processing using OpenCV from Zero to Hero\n",
    "- Author: Srikanth Guskra\n",
    "- URL: https://www.udemy.com/user/data-science-anywhere-2/"
   ]
  },
  {
   "cell_type": "markdown",
   "metadata": {},
   "source": [
    "# Display , Load, Save"
   ]
  },
  {
   "cell_type": "code",
   "execution_count": 1,
   "metadata": {},
   "outputs": [],
   "source": [
    "import numpy as np\n",
    "import cv2"
   ]
  },
  {
   "cell_type": "code",
   "execution_count": 2,
   "metadata": {},
   "outputs": [],
   "source": [
    "img = cv2.imread('./images/flemingo.jpg')"
   ]
  },
  {
   "cell_type": "code",
   "execution_count": 3,
   "metadata": {},
   "outputs": [
    {
     "name": "stdout",
     "output_type": "stream",
     "text": [
      "[[[188 163 119]\n",
      "  [189 164 120]\n",
      "  [189 164 120]\n",
      "  ...\n",
      "  [188 163 119]\n",
      "  [188 163 119]\n",
      "  [188 163 119]]\n",
      "\n",
      " [[188 163 119]\n",
      "  [189 164 120]\n",
      "  [189 164 120]\n",
      "  ...\n",
      "  [188 163 119]\n",
      "  [188 163 119]\n",
      "  [188 163 119]]\n",
      "\n",
      " [[188 163 119]\n",
      "  [189 164 120]\n",
      "  [189 164 120]\n",
      "  ...\n",
      "  [188 163 119]\n",
      "  [188 163 119]\n",
      "  [188 163 119]]\n",
      "\n",
      " ...\n",
      "\n",
      " [[167 134  88]\n",
      "  [167 134  88]\n",
      "  [167 134  88]\n",
      "  ...\n",
      "  [177 144  98]\n",
      "  [177 144  98]\n",
      "  [177 144  98]]\n",
      "\n",
      " [[171 141  94]\n",
      "  [171 141  94]\n",
      "  [172 142  95]\n",
      "  ...\n",
      "  [177 144  98]\n",
      "  [177 144  98]\n",
      "  [177 144  98]]\n",
      "\n",
      " [[177 147 100]\n",
      "  [177 147 100]\n",
      "  [178 148 101]\n",
      "  ...\n",
      "  [177 144  98]\n",
      "  [177 144  98]\n",
      "  [177 144  98]]]\n"
     ]
    }
   ],
   "source": [
    "print(img)"
   ]
  },
  {
   "cell_type": "code",
   "execution_count": 4,
   "metadata": {},
   "outputs": [
    {
     "data": {
      "text/plain": [
       "(640, 640, 3)"
      ]
     },
     "execution_count": 4,
     "metadata": {},
     "output_type": "execute_result"
    }
   ],
   "source": [
    "img.shape"
   ]
  },
  {
   "cell_type": "code",
   "execution_count": 5,
   "metadata": {},
   "outputs": [],
   "source": [
    "cv2.imshow('example',img)\n",
    "cv2.waitKey(10000) # millseconds\n",
    "cv2.destroyAllWindows()"
   ]
  },
  {
   "cell_type": "code",
   "execution_count": 6,
   "metadata": {},
   "outputs": [],
   "source": [
    "cv2.imshow('example',img)\n",
    "cv2.waitKey(0) # millseconds\n",
    "cv2.destroyAllWindows()"
   ]
  },
  {
   "cell_type": "markdown",
   "metadata": {},
   "source": [
    "# save an image"
   ]
  },
  {
   "cell_type": "code",
   "execution_count": 7,
   "metadata": {},
   "outputs": [
    {
     "data": {
      "text/plain": [
       "True"
      ]
     },
     "execution_count": 7,
     "metadata": {},
     "output_type": "execute_result"
    }
   ],
   "source": [
    "cv2.imwrite('./images/example.png',img)"
   ]
  },
  {
   "cell_type": "markdown",
   "metadata": {},
   "source": [
    "---\n",
    "Srikanth Guskra\n",
    "\n",
    "www.datascienceanywhere.com"
   ]
  }
 ],
 "metadata": {
  "kernelspec": {
   "display_name": "Python 3",
   "language": "python",
   "name": "python3"
  },
  "language_info": {
   "codemirror_mode": {
    "name": "ipython",
    "version": 3
   },
   "file_extension": ".py",
   "mimetype": "text/x-python",
   "name": "python",
   "nbconvert_exporter": "python",
   "pygments_lexer": "ipython3",
   "version": "3.9.2"
  }
 },
 "nbformat": 4,
 "nbformat_minor": 4
}
