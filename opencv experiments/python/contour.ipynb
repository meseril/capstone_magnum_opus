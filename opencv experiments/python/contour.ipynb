{
 "cells": [
  {
   "cell_type": "code",
   "execution_count": 19,
   "metadata": {},
   "outputs": [],
   "source": [
    "import cv2\n",
    "import numpy as np"
   ]
  },
  {
   "cell_type": "code",
   "execution_count": 32,
   "metadata": {},
   "outputs": [
    {
     "name": "stdout",
     "output_type": "stream",
     "text": [
      "Number of detected contours: 327\n"
     ]
    }
   ],
   "source": [
    "img = cv2.imread(\"./images/bird.jpg\", 0)\n",
    "img = cv2.resize(img, (600,600))\n",
    "\n",
    "ret, thresh = cv2.threshold(img, 0, 255, cv2.THRESH_BINARY+cv2.THRESH_OTSU)\n",
    "#print(\"return: \"+str(ret),\"threshold: \"+ str(thresh))\n",
    "contours, hierarchy = cv2.findContours(thresh, cv2.RETR_TREE, cv2.CHAIN_APPROX_SIMPLE)\n",
    "\n",
    "color_img = cv2.cvtColor(img, cv2.COLOR_GRAY2BGR)\n",
    "img = cv2.drawContours(color_img, contours,-1, (200,200,200), 1)\n",
    "print(\"Number of detected contours: \"+ str(len(contours)))\n",
    "\n",
    "cv2.putText(color_img, \"Number of detected contours: \"+ str(len(contours)),(10,30),cv2.FONT_HERSHEY_SIMPLEX,1,(0,0,0),2)\n",
    "\n",
    "cv2.imshow(\"Image with detected contours\", img)\n",
    "cv2.waitKey()\n",
    "cv2.destroyAllWindows()"
   ]
  },
  {
   "cell_type": "code",
   "execution_count": null,
   "metadata": {},
   "outputs": [],
   "source": []
  }
 ],
 "metadata": {
  "kernelspec": {
   "display_name": "Python 3.10.4 64-bit",
   "language": "python",
   "name": "python3"
  },
  "language_info": {
   "codemirror_mode": {
    "name": "ipython",
    "version": 3
   },
   "file_extension": ".py",
   "mimetype": "text/x-python",
   "name": "python",
   "nbconvert_exporter": "python",
   "pygments_lexer": "ipython3",
   "version": "3.10.4"
  },
  "orig_nbformat": 4,
  "vscode": {
   "interpreter": {
    "hash": "ffd44c0fe5a3ec242ee01199f8a2599f29a6a837f142006015371c54e41a6e4e"
   }
  }
 },
 "nbformat": 4,
 "nbformat_minor": 2
}
