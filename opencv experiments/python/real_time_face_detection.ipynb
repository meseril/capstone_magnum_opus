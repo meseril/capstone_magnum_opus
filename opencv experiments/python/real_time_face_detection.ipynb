{
 "cells": [
  {
   "cell_type": "code",
   "execution_count": 20,
   "metadata": {},
   "outputs": [],
   "source": [
    "#real time face detection\n",
    "import numpy as np\n",
    "import cv2\n",
    "\n",
    "img = cv2.imread('./face_detection/faces.jpg')\n",
    "cv2.imshow('faces',img)\n",
    "cv2.waitKey(0)\n",
    "cv2.destroyAllWindows()\n",
    "\n",
    "cap = cv2.VideoCapture(0)\n",
    "face_cascade = cv2.CascadeClassifier('./face_detection/model/haarcascade_frontalface_default.xml')\n",
    "\n",
    "\n",
    "def  face_detection(img):\n",
    "    image = img.copy() # duplicate image\n",
    "    # step 1: Convert image into gray scale\n",
    "    gray = cv2.cvtColor(img,cv2.COLOR_BGR2GRAY)\n",
    "    # step 2: Apply gray scale image to cascade classifier\n",
    "    box, detections = face_cascade.detectMultiScale2(gray,minNeighbors=8)\n",
    "    # step 3: Drawing bounding box\n",
    "    for x,y,w,h in box:\n",
    "        #print(x,y,w,h)\n",
    "        cv2.rectangle(image,(x,y),(x+w,y+h),(0,255,0),1)\n",
    "        return image"
   ]
  },
  {
   "cell_type": "code",
   "execution_count": 19,
   "metadata": {},
   "outputs": [],
   "source": [
    "while True:\n",
    "    ret, frame = cap.read()\n",
    "    if ret == False:\n",
    "       break\n",
    "    \n",
    "    img_detect = face_detection(frame)\n",
    "    cv2.imshow('real time face detection', img_detect)\n",
    "    if cv2.waitKey(1) == ord ('a'):\n",
    "        break\n",
    "\n",
    "cap.release()\n",
    "cv2.destroyAllWindows()"
   ]
  },
  {
   "cell_type": "code",
   "execution_count": null,
   "metadata": {},
   "outputs": [],
   "source": []
  }
 ],
 "metadata": {
  "kernelspec": {
   "display_name": "Python 3.10.4 64-bit",
   "language": "python",
   "name": "python3"
  },
  "language_info": {
   "codemirror_mode": {
    "name": "ipython",
    "version": 3
   },
   "file_extension": ".py",
   "mimetype": "text/x-python",
   "name": "python",
   "nbconvert_exporter": "python",
   "pygments_lexer": "ipython3",
   "version": "3.10.4"
  },
  "orig_nbformat": 4,
  "vscode": {
   "interpreter": {
    "hash": "ffd44c0fe5a3ec242ee01199f8a2599f29a6a837f142006015371c54e41a6e4e"
   }
  }
 },
 "nbformat": 4,
 "nbformat_minor": 2
}
