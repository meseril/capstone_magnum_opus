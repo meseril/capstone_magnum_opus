{
 "cells": [
  {
   "cell_type": "code",
   "execution_count": 2,
   "metadata": {},
   "outputs": [],
   "source": [
    "import cv2"
   ]
  },
  {
   "cell_type": "code",
   "execution_count": 49,
   "metadata": {},
   "outputs": [
    {
     "ename": "error",
     "evalue": "OpenCV(4.6.0) d:\\a\\opencv-python\\opencv-python\\opencv\\modules\\imgproc\\src\\color.simd_helpers.hpp:92: error: (-2:Unspecified error) in function '__cdecl cv::impl::`anonymous-namespace'::CvtHelper<struct cv::impl::`anonymous namespace'::Set<3,4,-1>,struct cv::impl::A0xf2302844::Set<1,-1,-1>,struct cv::impl::A0xf2302844::Set<0,2,5>,2>::CvtHelper(const class cv::_InputArray &,const class cv::_OutputArray &,int)'\n> Invalid number of channels in input image:\n>     'VScn::contains(scn)'\n> where\n>     'scn' is 1\n",
     "output_type": "error",
     "traceback": [
      "\u001b[1;31m---------------------------------------------------------------------------\u001b[0m",
      "\u001b[1;31merror\u001b[0m                                     Traceback (most recent call last)",
      "\u001b[1;32mc:\\Users\\Server_PC\\Documents\\python\\save_image.ipynb Cell 2'\u001b[0m in \u001b[0;36m<cell line: 2>\u001b[1;34m()\u001b[0m\n\u001b[0;32m      <a href='vscode-notebook-cell:/c%3A/Users/Server_PC/Documents/python/save_image.ipynb#ch0000001?line=0'>1</a>\u001b[0m my_image \u001b[39m=\u001b[39m cv2\u001b[39m.\u001b[39mimread(\u001b[39m\"\u001b[39m\u001b[39m./coins_mexican.jpg\u001b[39m\u001b[39m\"\u001b[39m,\u001b[39m0\u001b[39m)\n\u001b[1;32m----> <a href='vscode-notebook-cell:/c%3A/Users/Server_PC/Documents/python/save_image.ipynb#ch0000001?line=1'>2</a>\u001b[0m my_image \u001b[39m=\u001b[39m cv2\u001b[39m.\u001b[39;49mcvtColor(my_image, cv2\u001b[39m.\u001b[39;49mCOLOR_BGR2GRAY)\n\u001b[0;32m      <a href='vscode-notebook-cell:/c%3A/Users/Server_PC/Documents/python/save_image.ipynb#ch0000001?line=4'>5</a>\u001b[0m rows,cols,_ \u001b[39m=\u001b[39m my_image\u001b[39m.\u001b[39mshape\n\u001b[0;32m      <a href='vscode-notebook-cell:/c%3A/Users/Server_PC/Documents/python/save_image.ipynb#ch0000001?line=6'>7</a>\u001b[0m \u001b[39mfor\u001b[39;00m i \u001b[39min\u001b[39;00m \u001b[39mrange\u001b[39m(rows):\n",
      "\u001b[1;31merror\u001b[0m: OpenCV(4.6.0) d:\\a\\opencv-python\\opencv-python\\opencv\\modules\\imgproc\\src\\color.simd_helpers.hpp:92: error: (-2:Unspecified error) in function '__cdecl cv::impl::`anonymous-namespace'::CvtHelper<struct cv::impl::`anonymous namespace'::Set<3,4,-1>,struct cv::impl::A0xf2302844::Set<1,-1,-1>,struct cv::impl::A0xf2302844::Set<0,2,5>,2>::CvtHelper(const class cv::_InputArray &,const class cv::_OutputArray &,int)'\n> Invalid number of channels in input image:\n>     'VScn::contains(scn)'\n> where\n>     'scn' is 1\n"
     ]
    }
   ],
   "source": [
    "my_image = cv2.imread(\"./coins_mexican.jpg\")\n",
    "my_image = cv2.cvtColor(my_image, cv2.COLOR_BGR2GRAY)\n",
    "\n",
    "\n",
    "# draw a line\n",
    "cv2.line(my_image,(20,150),(300,150),(0,0,200),3)\n",
    "\n",
    "# draw a rectangle\n",
    "cv2.rectangle(my_image, (300,300),(100,500),(255,0,0),3)\n",
    "\n",
    "# draw a circle\n",
    "cv2.circle(my_image,(400,150),50,(0,0,0),3)\n",
    "\n",
    "# write text\n",
    "font_face = cv2.FONT_HERSHEY_COMPLEX_SMALL\n",
    "cv2.putText(my_image,\"Some Coins\",(250,250),font_face,1,(0,0,0),2)\n",
    "\n",
    "cv2.imshow(\"coin\", my_image)\n",
    "\n",
    "the_key = cv2.waitKey(0) & 0xFF\n",
    "\n",
    "\n",
    "if the_key == ord('q'):\n",
    "    cv2.destroyAllWindows()\n",
    "\n",
    "elif the_key == ord('s'):\n",
    "    saved_image = cv2.imwrite(\"./saved_images/test2.jpg\",my_image)\n",
    "    print(\"Image Saved!!\")\n",
    "    cv2.destroyAllWindows()\n"
   ]
  },
  {
   "cell_type": "code",
   "execution_count": null,
   "metadata": {},
   "outputs": [],
   "source": []
  }
 ],
 "metadata": {
  "kernelspec": {
   "display_name": "Python 3.10.4 64-bit",
   "language": "python",
   "name": "python3"
  },
  "language_info": {
   "codemirror_mode": {
    "name": "ipython",
    "version": 3
   },
   "file_extension": ".py",
   "mimetype": "text/x-python",
   "name": "python",
   "nbconvert_exporter": "python",
   "pygments_lexer": "ipython3",
   "version": "3.10.4"
  },
  "orig_nbformat": 4,
  "vscode": {
   "interpreter": {
    "hash": "ffd44c0fe5a3ec242ee01199f8a2599f29a6a837f142006015371c54e41a6e4e"
   }
  }
 },
 "nbformat": 4,
 "nbformat_minor": 2
}
