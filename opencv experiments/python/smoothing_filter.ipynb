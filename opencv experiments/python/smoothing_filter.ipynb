{
 "cells": [
  {
   "cell_type": "code",
   "execution_count": 2,
   "metadata": {},
   "outputs": [],
   "source": [
    "import numpy as np\n",
    "import cv2"
   ]
  },
  {
   "cell_type": "code",
   "execution_count": 4,
   "metadata": {},
   "outputs": [],
   "source": [
    "img = cv2.imread(\"./08_Smoothing_filters/images/beach.jpg\")\n",
    "\n",
    "cv2.imshow(\"beach\",img)\n",
    "cv2.waitKey(0)\n",
    "cv2.destroyAllWindows()"
   ]
  },
  {
   "cell_type": "markdown",
   "metadata": {},
   "source": [
    "Average Blur"
   ]
  },
  {
   "cell_type": "code",
   "execution_count": 4,
   "metadata": {},
   "outputs": [],
   "source": [
    "blur_avg3 = cv2.blur(img,(3,3))\n",
    "blur_avg5 = cv2.blur(img,(5,5))\n",
    "blur_avg7 = cv2.blur(img,(7,7))\n",
    "blur_avg9 = cv2.blur(img,(9,9))"
   ]
  },
  {
   "cell_type": "code",
   "execution_count": 5,
   "metadata": {},
   "outputs": [],
   "source": [
    "cv2.imshow(\"orignal\",img)\n",
    "cv2.imshow(\"blur 3\",blur_avg3)\n",
    "cv2.imshow(\"blur 5\",blur_avg5)\n",
    "cv2.imshow(\"blur 7\",blur_avg7)\n",
    "cv2.imshow(\"blur 9\",blur_avg9)\n",
    "\n",
    "cv2.waitKey(0)\n",
    "cv2.destroyAllWindows()"
   ]
  },
  {
   "cell_type": "markdown",
   "metadata": {},
   "source": [
    "Gaussian Blur\n"
   ]
  },
  {
   "cell_type": "code",
   "execution_count": 5,
   "metadata": {},
   "outputs": [],
   "source": [
    "blur_gauss_3 = cv2.GaussianBlur(img,(3,3),0)\n",
    "blur_gauss_5 = cv2.GaussianBlur(img,(5,5),0)\n",
    "blur_gauss_7 = cv2.GaussianBlur(img,(7,7),0)"
   ]
  },
  {
   "cell_type": "code",
   "execution_count": 6,
   "metadata": {},
   "outputs": [],
   "source": [
    "cv2.imshow(\"orignal\",img)\n",
    "cv2.imshow(\"blur 3\",blur_gauss_3)\n",
    "cv2.imshow(\"blur 5\",blur_gauss_5)\n",
    "cv2.imshow(\"blur 7\",blur_gauss_7)\n",
    "\n",
    "cv2.waitKey(0)\n",
    "cv2.destroyAllWindows()"
   ]
  },
  {
   "cell_type": "markdown",
   "metadata": {},
   "source": [
    "Median Blur"
   ]
  },
  {
   "cell_type": "code",
   "execution_count": 10,
   "metadata": {},
   "outputs": [],
   "source": [
    "sp = cv2.imread(\"./08_Smoothing_filters/images/sp_noise.jpg\")\n",
    "cv2.imshow(\"salt and pepper\", sp)\n",
    "cv2.waitKey(0)\n",
    "cv2.destroyAllWindows()"
   ]
  },
  {
   "cell_type": "code",
   "execution_count": 22,
   "metadata": {},
   "outputs": [],
   "source": [
    "blur_median_3 = cv2.medianBlur(sp,3)\n",
    "blur_median_5 = cv2.medianBlur(sp,5)"
   ]
  },
  {
   "cell_type": "code",
   "execution_count": 23,
   "metadata": {},
   "outputs": [],
   "source": [
    "cv2.imshow(\"salt and pepper\", sp)\n",
    "cv2.imshow(\"median blur 3\", blur_median_3)\n",
    "cv2.imshow(\"median blur 5\", blur_median_5)\n",
    "cv2.waitKey(0)\n",
    "cv2.destroyAllWindows()"
   ]
  },
  {
   "cell_type": "code",
   "execution_count": null,
   "metadata": {},
   "outputs": [],
   "source": []
  }
 ],
 "metadata": {
  "kernelspec": {
   "display_name": "Python 3.10.4 64-bit",
   "language": "python",
   "name": "python3"
  },
  "language_info": {
   "codemirror_mode": {
    "name": "ipython",
    "version": 3
   },
   "file_extension": ".py",
   "mimetype": "text/x-python",
   "name": "python",
   "nbconvert_exporter": "python",
   "pygments_lexer": "ipython3",
   "version": "3.10.4"
  },
  "orig_nbformat": 4,
  "vscode": {
   "interpreter": {
    "hash": "ffd44c0fe5a3ec242ee01199f8a2599f29a6a837f142006015371c54e41a6e4e"
   }
  }
 },
 "nbformat": 4,
 "nbformat_minor": 2
}
