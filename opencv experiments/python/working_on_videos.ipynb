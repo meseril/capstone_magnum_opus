{
 "cells": [
  {
   "cell_type": "code",
   "execution_count": 17,
   "metadata": {},
   "outputs": [],
   "source": [
    "import cv2\n",
    "import numpy as np\n",
    "import time\n",
    "\n",
    "\n",
    "\n",
    "# Create a VideoCapture object and read from input file\n",
    "# If the input is the camera, pass 0 instead of the video file name\n",
    "cap = cv2.VideoCapture('./videos/clip.mp4')\n",
    "fps = 0\n",
    "# Check if camera opened successfully\n",
    "if (cap.isOpened()== False): \n",
    "  print(\"Error opening video stream or file\")\n",
    "\n",
    "# Read until video is completed\n",
    "while(cap.isOpened()):\n",
    "  start_time = time.time() #start time\n",
    "  # Capture frame-by-frame\n",
    "  ret, frame = cap.read()\n",
    "  if ret == True:\n",
    "\n",
    "    cv2.putText(frame,'FPS: {:.0f}'.format(fps),(30,30),cv2.FONT_HERSHEY_SIMPLEX,0.5,(255,255,255),1)\n",
    "    # Display the resulting frame\n",
    "    cv2.imshow('Frame',frame)\n",
    "\n",
    "    # Press Q on keyboard to  exit\n",
    "    if cv2.waitKey(30) & 0xFF == ord('q'):\n",
    "      break\n",
    "\n",
    "    time_taken = time.time() - start_time #time taken in seconds\n",
    "    fps = 1/time_taken #frames per second\n",
    "\n",
    "  # Break the loop\n",
    "  else: \n",
    "    break\n",
    "\n",
    "# When everything done, release the video capture object\n",
    "cap.release()\n",
    "\n",
    "# Closes all the frames\n",
    "cv2.destroyAllWindows()"
   ]
  },
  {
   "cell_type": "code",
   "execution_count": 12,
   "metadata": {},
   "outputs": [
    {
     "data": {
      "text/plain": [
       "33.333333333333336"
      ]
     },
     "execution_count": 12,
     "metadata": {},
     "output_type": "execute_result"
    }
   ],
   "source": [
    "1000/30"
   ]
  },
  {
   "cell_type": "code",
   "execution_count": 31,
   "metadata": {},
   "outputs": [],
   "source": [
    "import cv2\n",
    "import numpy as np\n",
    "import time\n",
    "\n",
    "\n",
    "# Create a VideoCapture object and read from input file\n",
    "# If the input is the camera, pass 0 instead of the video file name\n",
    "cap0 = cv2.VideoCapture(0) # 0, 1, ....\n",
    "cap1 = cv2.VideoCapture(1) # 0, 1, ....\n",
    "fps = 0\n",
    "# Read until video is completed\n",
    "while True:\n",
    "    start_time = time.time() #start time\n",
    "    ret, frame0 = cap0.read()\n",
    "    ret, frame1 = cap1.read()\n",
    " \n",
    "\n",
    "    cv2.putText(frame0,'FPS: {:.0f}'.format(fps),(30,30),cv2.FONT_HERSHEY_SIMPLEX,0.5,(255,255,255),1)\n",
    "    cv2.putText(frame1,'FPS: {:.0f}'.format(fps),(30,30),cv2.FONT_HERSHEY_SIMPLEX,0.5,(255,255,255),1)\n",
    "    \n",
    "    # horizontal stack\n",
    "    hstack = np.hstack((frame0,frame1))\n",
    "\n",
    "    # Display the resulting frame\n",
    "    #cv2.imshow('cam-1',frame0)\n",
    "    #cv2.imshow('cam2',frame1)\n",
    "    cv2.imshow('camera 1 and 2', hstack)\n",
    "\n",
    "\n",
    "\n",
    "    # Press Q on keyboard to  exit\n",
    "    if cv2.waitKey(1) & 0xFF == ord('q'):\n",
    "      break\n",
    "\n",
    "    time_taken = time.time() - start_time #time taken in seconds\n",
    "    fps = 1/time_taken #frames per second\n",
    "     \n",
    "\n",
    "# When everything done, release the video capture object\n",
    "cap.release()\n",
    "\n",
    "# Closes all the frames\n",
    "cv2.destroyAllWindows()"
   ]
  },
  {
   "cell_type": "code",
   "execution_count": 1,
   "metadata": {},
   "outputs": [],
   "source": []
  },
  {
   "cell_type": "code",
   "execution_count": 5,
   "metadata": {},
   "outputs": [],
   "source": []
  },
  {
   "cell_type": "code",
   "execution_count": 6,
   "metadata": {},
   "outputs": [],
   "source": [
    "face_cascade = cv2.CascadeClassifier('./face_detection/model/haarcascade_frontalface_default.xml')\n"
   ]
  },
  {
   "cell_type": "code",
   "execution_count": null,
   "metadata": {},
   "outputs": [],
   "source": []
  }
 ],
 "metadata": {
  "kernelspec": {
   "display_name": "Python 3.10.4 64-bit",
   "language": "python",
   "name": "python3"
  },
  "language_info": {
   "codemirror_mode": {
    "name": "ipython",
    "version": 3
   },
   "file_extension": ".py",
   "mimetype": "text/x-python",
   "name": "python",
   "nbconvert_exporter": "python",
   "pygments_lexer": "ipython3",
   "version": "3.10.4"
  },
  "orig_nbformat": 4,
  "vscode": {
   "interpreter": {
    "hash": "ffd44c0fe5a3ec242ee01199f8a2599f29a6a837f142006015371c54e41a6e4e"
   }
  }
 },
 "nbformat": 4,
 "nbformat_minor": 2
}
