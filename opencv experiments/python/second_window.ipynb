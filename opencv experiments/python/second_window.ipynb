{
 "cells": [
  {
   "cell_type": "code",
   "execution_count": 1,
   "metadata": {},
   "outputs": [
    {
     "name": "stdout",
     "output_type": "stream",
     "text": [
      "Button One click\n",
      "Button Two click\n",
      "Button Two click\n",
      "Button Two click\n",
      "Button One click\n",
      "Button One click\n",
      "Button One click\n",
      "Button One click\n",
      "Button Two click\n",
      "Button Two click\n",
      "Button Two click\n",
      "Button One click\n",
      "Button One click\n",
      "Button One click\n",
      "Button Two click\n",
      "Button Two click\n",
      "Button One click\n",
      "Button One click\n",
      "Button One click\n",
      "Button One click\n",
      "Closing Window...\n"
     ]
    }
   ],
   "source": [
    "from PyQt5.QtWidgets import QApplication,QWidget,QPushButton\n",
    "import sys\n",
    "from PyQt5.QtGui import QIcon\n",
    "\n",
    "class WindowExample(QWidget):\n",
    "    def __init__(self):\n",
    "        super().__init__()\n",
    "\n",
    "        self.setGeometry(200,200,300,200) # position: x,y dimensions: width,height\n",
    "        self.setWindowTitle(\"dem!! she thiccc boi!!\")\n",
    "        self.setWindowIcon(QIcon(\"./camus.jpg\"))\n",
    "\n",
    "        # Fixed Width and Height\n",
    "        self.setFixedWidth(300)\n",
    "        self.setFixedHeight(200)\n",
    "        # set Opacity\n",
    "        self.setWindowOpacity(0.99)\n",
    "        \n",
    "        self.create_btn()\n",
    "        \n",
    "\n",
    "    def create_btn(self):\n",
    "        btn1 = QPushButton(\" Add\",self)\n",
    "        btn1.setGeometry(100,50,75,50)\n",
    "        btn1.setIcon(QIcon(\"./check.png\"))\n",
    "        btn1.setStyleSheet(\"color:red; background-color: black\")\n",
    "        btn1.clicked.connect(self.clicked_btn1)\n",
    "\n",
    "        btn2 = QPushButton(\" Remove\",self)\n",
    "        btn2.setGeometry(175,50,75,50)\n",
    "        btn2.setIcon(QIcon(\"./remove.png\"))\n",
    "        btn2.clicked.connect(self.clicked_btn2)\n",
    "        \n",
    "    def clicked_btn1(self):\n",
    "        print(\"Button One click\")\n",
    "\n",
    "    def clicked_btn2(self):\n",
    "        print(\"Button Two click\")\n",
    "\n",
    "\n",
    "if __name__ == '__main__':\n",
    "    # in every pyqt application it is required to create the object of QApplication\n",
    "    app = QApplication([]) # sys.argv is useful if going to use command line arguments () else just replace with []\n",
    "    # initialize and show Qwidget object\n",
    "    window = WindowExample()\n",
    "    window.show()\n",
    "\n",
    "    try:\n",
    "        sys.exit(app.exec_())\n",
    "    except SystemExit:\n",
    "        print(\"Closing Window...\")"
   ]
  },
  {
   "cell_type": "code",
   "execution_count": null,
   "metadata": {},
   "outputs": [],
   "source": []
  }
 ],
 "metadata": {
  "kernelspec": {
   "display_name": "Python 3.10.4 64-bit",
   "language": "python",
   "name": "python3"
  },
  "language_info": {
   "codemirror_mode": {
    "name": "ipython",
    "version": 3
   },
   "file_extension": ".py",
   "mimetype": "text/x-python",
   "name": "python",
   "nbconvert_exporter": "python",
   "pygments_lexer": "ipython3",
   "version": "3.10.4"
  },
  "orig_nbformat": 4,
  "vscode": {
   "interpreter": {
    "hash": "ffd44c0fe5a3ec242ee01199f8a2599f29a6a837f142006015371c54e41a6e4e"
   }
  }
 },
 "nbformat": 4,
 "nbformat_minor": 2
}
