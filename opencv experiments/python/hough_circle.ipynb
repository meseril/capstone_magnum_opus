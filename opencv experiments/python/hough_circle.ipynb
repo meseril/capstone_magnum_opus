{
 "cells": [
  {
   "cell_type": "code",
   "execution_count": 32,
   "metadata": {},
   "outputs": [],
   "source": [
    "import numpy as np\n",
    "import cv2\n",
    "img = cv2.imread('./saved_images/coins.jpg', cv2.IMREAD_COLOR)\n",
    "img = cv2.resize(img, (600,600))\n",
    "gray_img = cv2.cvtColor(img, cv2.COLOR_BGR2GRAY)\n",
    "gray_blurred = cv2.blur(gray_img,(5,5)) #kernel value\n",
    "\n",
    "detected_circles = cv2.HoughCircles(gray_blurred, cv2.HOUGH_GRADIENT,dp=0.2, minDist=120,param1=50,param2=30,minRadius=60,maxRadius=100)\n",
    "\n",
    "if detected_circles is not None:\n",
    "    detected_circles = np.uint16(np.around(detected_circles))\n",
    "\n",
    "    for i in detected_circles[0, :]:\n",
    "        # draw the outer circle\n",
    "        cv2.circle(img, (i[0],i[1]), i[2], (0,255,0), 2)\n",
    "        # draw the center of the circle\n",
    "        cv2.circle(img, (i[0],i[1]), 2, (0,0,255),3)\n",
    "    cv2.imshow(\"Detected Circle\", img)\n",
    "    cv2.waitKey(0)\n",
    "    cv2.destroyAllWindows()\n"
   ]
  }
 ],
 "metadata": {
  "kernelspec": {
   "display_name": "Python 3.10.4 64-bit",
   "language": "python",
   "name": "python3"
  },
  "language_info": {
   "name": "python",
   "version": "3.10.4"
  },
  "orig_nbformat": 4,
  "vscode": {
   "interpreter": {
    "hash": "ffd44c0fe5a3ec242ee01199f8a2599f29a6a837f142006015371c54e41a6e4e"
   }
  }
 },
 "nbformat": 4,
 "nbformat_minor": 2
}
