{
 "cells": [
  {
   "cell_type": "code",
   "execution_count": 1,
   "metadata": {},
   "outputs": [
    {
     "ename": "AttributeError",
     "evalue": "'NoneType' object has no attribute 'shape'",
     "output_type": "error",
     "traceback": [
      "\u001b[1;31m---------------------------------------------------------------------------\u001b[0m",
      "\u001b[1;31mAttributeError\u001b[0m                            Traceback (most recent call last)",
      "\u001b[1;32mc:\\Users\\Server_PC\\Desktop\\video_play_and_save.ipynb Cell 1'\u001b[0m in \u001b[0;36m<cell line: 14>\u001b[1;34m()\u001b[0m\n\u001b[0;32m      <a href='vscode-notebook-cell:/c%3A/Users/Server_PC/Desktop/video_play_and_save.ipynb#ch0000000?line=8'>9</a>\u001b[0m \u001b[39m#cap = cv2.VideoCapture('../../../../DaTaSeT/video/vtest.mp4')\u001b[39;00m\n\u001b[0;32m     <a href='vscode-notebook-cell:/c%3A/Users/Server_PC/Desktop/video_play_and_save.ipynb#ch0000000?line=9'>10</a>\u001b[0m \n\u001b[0;32m     <a href='vscode-notebook-cell:/c%3A/Users/Server_PC/Desktop/video_play_and_save.ipynb#ch0000000?line=10'>11</a>\u001b[0m \n\u001b[0;32m     <a href='vscode-notebook-cell:/c%3A/Users/Server_PC/Desktop/video_play_and_save.ipynb#ch0000000?line=11'>12</a>\u001b[0m \u001b[39m# Tip for read the frame size\u001b[39;00m\n\u001b[0;32m     <a href='vscode-notebook-cell:/c%3A/Users/Server_PC/Desktop/video_play_and_save.ipynb#ch0000000?line=12'>13</a>\u001b[0m ret, frame \u001b[39m=\u001b[39m cap\u001b[39m.\u001b[39mread()\n\u001b[1;32m---> <a href='vscode-notebook-cell:/c%3A/Users/Server_PC/Desktop/video_play_and_save.ipynb#ch0000000?line=13'>14</a>\u001b[0m \u001b[39mprint\u001b[39m(\u001b[39m'\u001b[39m\u001b[39mret =\u001b[39m\u001b[39m'\u001b[39m, ret, \u001b[39m'\u001b[39m\u001b[39mW =\u001b[39m\u001b[39m'\u001b[39m, frame\u001b[39m.\u001b[39;49mshape[\u001b[39m1\u001b[39m], \u001b[39m'\u001b[39m\u001b[39mH =\u001b[39m\u001b[39m'\u001b[39m, frame\u001b[39m.\u001b[39mshape[\u001b[39m0\u001b[39m], \u001b[39m'\u001b[39m\u001b[39mchannel =\u001b[39m\u001b[39m'\u001b[39m, frame\u001b[39m.\u001b[39mshape[\u001b[39m2\u001b[39m])\n\u001b[0;32m     <a href='vscode-notebook-cell:/c%3A/Users/Server_PC/Desktop/video_play_and_save.ipynb#ch0000000?line=16'>17</a>\u001b[0m \u001b[39m#FOURCC=[MJPG, ]\u001b[39;00m\n\u001b[0;32m     <a href='vscode-notebook-cell:/c%3A/Users/Server_PC/Desktop/video_play_and_save.ipynb#ch0000000?line=17'>18</a>\u001b[0m \u001b[39m# MJPG: very high quality but larg size (~16 times, vtest.avi's 8mb to 130mb).\u001b[39;00m\n\u001b[0;32m     <a href='vscode-notebook-cell:/c%3A/Users/Server_PC/Desktop/video_play_and_save.ipynb#ch0000000?line=18'>19</a>\u001b[0m \u001b[39m# XVID: niece with 1.5 time video size.\u001b[39;00m\n\u001b[0;32m     <a href='vscode-notebook-cell:/c%3A/Users/Server_PC/Desktop/video_play_and_save.ipynb#ch0000000?line=19'>20</a>\u001b[0m \u001b[39m# X264: good with half size .\u001b[39;00m\n\u001b[0;32m     <a href='vscode-notebook-cell:/c%3A/Users/Server_PC/Desktop/video_play_and_save.ipynb#ch0000000?line=20'>21</a>\u001b[0m \n\u001b[0;32m     <a href='vscode-notebook-cell:/c%3A/Users/Server_PC/Desktop/video_play_and_save.ipynb#ch0000000?line=21'>22</a>\u001b[0m \u001b[39m# Save the Video\u001b[39;00m\n\u001b[0;32m     <a href='vscode-notebook-cell:/c%3A/Users/Server_PC/Desktop/video_play_and_save.ipynb#ch0000000?line=22'>23</a>\u001b[0m FPS\u001b[39m=\u001b[39m \u001b[39m20.0\u001b[39m\n",
      "\u001b[1;31mAttributeError\u001b[0m: 'NoneType' object has no attribute 'shape'"
     ]
    }
   ],
   "source": [
    "import numpy as np\n",
    "import cv2\n",
    " \n",
    "\n",
    "#cap = cv2.VideoCapture('../../../../DaTaSeT/video/Nespresso What Else - Reprise.mp4')\n",
    "#cap = cv2.VideoCapture('../../../../DaTaSeT/video/Nespresso What Else - Reprise.m4v')\n",
    "#cap = cv2.VideoCapture('../../../../DaTaSeT/video/Nespresso.avi')\n",
    "cap = cv2.VideoCapture('../../../../DaTaSeT/video/vtest.avi')\n",
    "#cap = cv2.VideoCapture('../../../../DaTaSeT/video/vtest.mp4')\n",
    "\n",
    "\n",
    "# Tip for read the frame size\n",
    "ret, frame = cap.read()\n",
    "print('ret =', ret, 'W =', frame.shape[1], 'H =', frame.shape[0], 'channel =', frame.shape[2])\n",
    "\n",
    "\n",
    "#FOURCC=[MJPG, ]\n",
    "# MJPG: very high quality but larg size (~16 times, vtest.avi's 8mb to 130mb).\n",
    "# XVID: niece with 1.5 time video size.\n",
    "# X264: good with half size .\n",
    "\n",
    "# Save the Video\n",
    "FPS= 20.0\n",
    "FrameSize=(frame.shape[1], frame.shape[0]) # MUST set or not thing happen !!!! vtest is 768,576.\n",
    "isColor=1# flag for color(true or 1) or gray (0)\n",
    "fourcc = cv2.VideoWriter_fourcc(*'X264')\n",
    "out = cv2.VideoWriter('Video_output.avi', fourcc, FPS, FrameSize)\n",
    "\n",
    "\n",
    "\n",
    "while(cap.isOpened()):\n",
    "    ret, frame = cap.read()\n",
    " \n",
    "    #gray = cv2.cvtColor(frame, cv2.COLOR_BGR2GRAY)\n",
    "    gray = frame\n",
    "    \n",
    "    # Save the video\n",
    "    out.write(frame) # It's not work without proper size of frame\n",
    "    \n",
    "    cv2.imshow('frame',frame)\n",
    "    if cv2.waitKey(1) & 0xFF == ord('q'):\n",
    "         break\n",
    " \n",
    "cap.release()\n",
    "cv2.destroyAllWindows()"
   ]
  },
  {
   "cell_type": "code",
   "execution_count": null,
   "metadata": {},
   "outputs": [],
   "source": []
  }
 ],
 "metadata": {
  "kernelspec": {
   "display_name": "Python 3.10.4 64-bit",
   "language": "python",
   "name": "python3"
  },
  "language_info": {
   "codemirror_mode": {
    "name": "ipython",
    "version": 3
   },
   "file_extension": ".py",
   "mimetype": "text/x-python",
   "name": "python",
   "nbconvert_exporter": "python",
   "pygments_lexer": "ipython3",
   "version": "3.10.4"
  },
  "orig_nbformat": 4,
  "vscode": {
   "interpreter": {
    "hash": "ffd44c0fe5a3ec242ee01199f8a2599f29a6a837f142006015371c54e41a6e4e"
   }
  }
 },
 "nbformat": 4,
 "nbformat_minor": 2
}
