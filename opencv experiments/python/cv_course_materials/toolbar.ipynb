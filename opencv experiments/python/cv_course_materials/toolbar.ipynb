{
 "cells": [
  {
   "cell_type": "code",
   "execution_count": 9,
   "metadata": {},
   "outputs": [
    {
     "ename": "SystemExit",
     "evalue": "0",
     "output_type": "error",
     "traceback": [
      "An exception has occurred, use %tb to see the full traceback.\n",
      "\u001b[1;31mSystemExit\u001b[0m\u001b[1;31m:\u001b[0m 0\n"
     ]
    }
   ],
   "source": [
    "#!/usr/bin/python\n",
    "\n",
    "\"\"\"\n",
    "ZetCode PyQt5 tutorial\n",
    "\n",
    "This program creates a skeleton of\n",
    "a classic GUI application with a menubar,\n",
    "toolbar, statusbar, and a central widget.\n",
    "\n",
    "Author: Jan Bodnar\n",
    "Website: zetcode.com\n",
    "\"\"\"\n",
    "\n",
    "import sys\n",
    "from PyQt5.QtWidgets import QMainWindow, QTextEdit, QAction, QApplication\n",
    "from PyQt5.QtGui import QIcon\n",
    "\n",
    "# make sure to add these imports, so that jupyter notebook stops crashing when closed\n",
    "from PyQt5.QtCore import QCoreApplication\n",
    "from PyQt5.QtWidgets import QApplication, QDialog\n",
    "import sys \n",
    "\n",
    "\n",
    "class Example(QMainWindow):\n",
    "\n",
    "    def __init__(self):\n",
    "        super().__init__()\n",
    "\n",
    "        self.initUI()\n",
    "\n",
    "\n",
    "    def initUI(self):\n",
    "\n",
    "        textEdit = QTextEdit()\n",
    "        self.setCentralWidget(textEdit)\n",
    "\n",
    "        exitAct = QAction(QIcon('./exit.png'), 'Exit', self)\n",
    "        exitAct.setShortcut('Ctrl+Q')\n",
    "        exitAct.setStatusTip('Exit application')\n",
    "        exitAct.triggered.connect(self.close)\n",
    "\n",
    "        self.statusBar()\n",
    "\n",
    "        #menubar = self.menuBar()\n",
    "        #fileMenu = menubar.addMenu('&File')\n",
    "        #fileMenu.addAction(exitAct)\n",
    "\n",
    "        toolbar = self.addToolBar('Exit')\n",
    "        toolbar.addAction(exitAct)\n",
    "\n",
    "        # window icon, size, and title\n",
    "        self.setGeometry(300, 300, 500, 350)\n",
    "        self.setWindowIcon(QIcon(\"./camus.jpg\"))\n",
    "        self.setWindowTitle('Main window')\n",
    "        self.show()\n",
    "\n",
    "\n",
    "def main():\n",
    "    app = QApplication(sys.argv)\n",
    "    ex = Example()\n",
    "    sys.exit(app.exec_())\n",
    "\n",
    "\n",
    "if __name__ == '__main__':\n",
    "    main()\n",
    "\n",
    "\n",
    "# make sure to add this so that jupyter notebook stops crashing when closed\n",
    "app = QCoreApplication.instance()\n",
    "if app is None:\n",
    "    app = QApplication(sys.argv)"
   ]
  },
  {
   "cell_type": "code",
   "execution_count": null,
   "metadata": {},
   "outputs": [],
   "source": []
  }
 ],
 "metadata": {
  "kernelspec": {
   "display_name": "Python 3.10.4 64-bit",
   "language": "python",
   "name": "python3"
  },
  "language_info": {
   "name": "python",
   "version": "3.10.4"
  },
  "orig_nbformat": 4,
  "vscode": {
   "interpreter": {
    "hash": "ffd44c0fe5a3ec242ee01199f8a2599f29a6a837f142006015371c54e41a6e4e"
   }
  }
 },
 "nbformat": 4,
 "nbformat_minor": 2
}
