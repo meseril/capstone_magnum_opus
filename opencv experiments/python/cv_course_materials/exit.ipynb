{
 "cells": [
  {
   "cell_type": "code",
   "execution_count": 2,
   "metadata": {},
   "outputs": [
    {
     "ename": "TypeError",
     "evalue": "Example.toggleMenu() missing 1 required positional argument: 'state'",
     "output_type": "error",
     "traceback": [
      "\u001b[1;31m---------------------------------------------------------------------------\u001b[0m",
      "\u001b[1;31mTypeError\u001b[0m                                 Traceback (most recent call last)",
      "\u001b[1;32mc:\\Users\\Server_PC\\Desktop\\exit.ipynb Cell 1'\u001b[0m in \u001b[0;36m<cell line: 100>\u001b[1;34m()\u001b[0m\n\u001b[0;32m     <a href='vscode-notebook-cell:/c%3A/Users/Server_PC/Desktop/exit.ipynb#ch0000000?line=96'>97</a>\u001b[0m     sys\u001b[39m.\u001b[39mexit(app\u001b[39m.\u001b[39mexec_())\n\u001b[0;32m    <a href='vscode-notebook-cell:/c%3A/Users/Server_PC/Desktop/exit.ipynb#ch0000000?line=99'>100</a>\u001b[0m \u001b[39mif\u001b[39;00m \u001b[39m__name__\u001b[39m \u001b[39m==\u001b[39m \u001b[39m'\u001b[39m\u001b[39m__main__\u001b[39m\u001b[39m'\u001b[39m:\n\u001b[1;32m--> <a href='vscode-notebook-cell:/c%3A/Users/Server_PC/Desktop/exit.ipynb#ch0000000?line=100'>101</a>\u001b[0m     main()\n",
      "\u001b[1;32mc:\\Users\\Server_PC\\Desktop\\exit.ipynb Cell 1'\u001b[0m in \u001b[0;36mmain\u001b[1;34m()\u001b[0m\n\u001b[0;32m     <a href='vscode-notebook-cell:/c%3A/Users/Server_PC/Desktop/exit.ipynb#ch0000000?line=93'>94</a>\u001b[0m \u001b[39mdef\u001b[39;00m \u001b[39mmain\u001b[39m():\n\u001b[0;32m     <a href='vscode-notebook-cell:/c%3A/Users/Server_PC/Desktop/exit.ipynb#ch0000000?line=94'>95</a>\u001b[0m     app \u001b[39m=\u001b[39m QApplication(sys\u001b[39m.\u001b[39margv)\n\u001b[1;32m---> <a href='vscode-notebook-cell:/c%3A/Users/Server_PC/Desktop/exit.ipynb#ch0000000?line=95'>96</a>\u001b[0m     ex \u001b[39m=\u001b[39m Example()\n\u001b[0;32m     <a href='vscode-notebook-cell:/c%3A/Users/Server_PC/Desktop/exit.ipynb#ch0000000?line=96'>97</a>\u001b[0m     sys\u001b[39m.\u001b[39mexit(app\u001b[39m.\u001b[39mexec_())\n",
      "\u001b[1;32mc:\\Users\\Server_PC\\Desktop\\exit.ipynb Cell 1'\u001b[0m in \u001b[0;36mExample.__init__\u001b[1;34m(self)\u001b[0m\n\u001b[0;32m     <a href='vscode-notebook-cell:/c%3A/Users/Server_PC/Desktop/exit.ipynb#ch0000000?line=20'>21</a>\u001b[0m \u001b[39msuper\u001b[39m()\u001b[39m.\u001b[39m\u001b[39m__init__\u001b[39m()\n\u001b[0;32m     <a href='vscode-notebook-cell:/c%3A/Users/Server_PC/Desktop/exit.ipynb#ch0000000?line=23'>24</a>\u001b[0m \u001b[39m#  call functions\u001b[39;00m\n\u001b[1;32m---> <a href='vscode-notebook-cell:/c%3A/Users/Server_PC/Desktop/exit.ipynb#ch0000000?line=24'>25</a>\u001b[0m \u001b[39mself\u001b[39;49m\u001b[39m.\u001b[39;49minitUI()\n",
      "\u001b[1;32mc:\\Users\\Server_PC\\Desktop\\exit.ipynb Cell 1'\u001b[0m in \u001b[0;36mExample.initUI\u001b[1;34m(self)\u001b[0m\n\u001b[0;32m     <a href='vscode-notebook-cell:/c%3A/Users/Server_PC/Desktop/exit.ipynb#ch0000000?line=28'>29</a>\u001b[0m \u001b[39mdef\u001b[39;00m \u001b[39minitUI\u001b[39m(\u001b[39mself\u001b[39m):\n\u001b[0;32m     <a href='vscode-notebook-cell:/c%3A/Users/Server_PC/Desktop/exit.ipynb#ch0000000?line=29'>30</a>\u001b[0m     \u001b[39mself\u001b[39m\u001b[39m.\u001b[39mcreateMenu()\n\u001b[1;32m---> <a href='vscode-notebook-cell:/c%3A/Users/Server_PC/Desktop/exit.ipynb#ch0000000?line=30'>31</a>\u001b[0m     \u001b[39mself\u001b[39;49m\u001b[39m.\u001b[39;49mtoggleMenu()\n\u001b[0;32m     <a href='vscode-notebook-cell:/c%3A/Users/Server_PC/Desktop/exit.ipynb#ch0000000?line=31'>32</a>\u001b[0m     \u001b[39mself\u001b[39m\u001b[39m.\u001b[39mcreatToolbar()\n",
      "\u001b[1;31mTypeError\u001b[0m: Example.toggleMenu() missing 1 required positional argument: 'state'"
     ]
    },
    {
     "ename": "",
     "evalue": "",
     "output_type": "error",
     "traceback": [
      "\u001b[1;31mThe Kernel crashed while executing code in the the current cell or a previous cell. Please review the code in the cell(s) to identify a possible cause of the failure. Click <a href='https://aka.ms/vscodeJupyterKernelCrash'>here</a> for more info. View Jupyter <a href='command:jupyter.viewOutput'>log</a> for further details."
     ]
    }
   ],
   "source": [
    "#!/usr/bin/python\n",
    "\n",
    "\"\"\"\n",
    "ZetCode PyQt5 tutorial\n",
    "\n",
    "This program creates a skeleton of\n",
    "a classic GUI application with a menubar,\n",
    "toolbar, statusbar, and a central widget.\n",
    "\n",
    "Author: Jan Bodnar\n",
    "Website: zetcode.com\n",
    "\"\"\"\n",
    "\n",
    "import sys\n",
    "from PyQt5.QtWidgets import QMainWindow, QAction, qApp, QApplication\n",
    "from PyQt5.QtGui import QIcon\n",
    "\n",
    "class Example(QMainWindow):\n",
    "\n",
    "    def __init__(self):\n",
    "        super().__init__()\n",
    "\n",
    "\n",
    "        #  call functions\n",
    "        self.initUI()\n",
    "        \n",
    "\n",
    "\n",
    "    def initUI(self):\n",
    "        self.createMenu()\n",
    "        self.toggleMenu()\n",
    "        self.creatToolbar()\n",
    "    \n",
    "\n",
    "    def createMenu(self):\n",
    "        self.statusbar = self.statusBar()\n",
    "        self.statusbar.showMessage('Ready')\n",
    "\n",
    "        menubar = self.menuBar()\n",
    "        viewMenu = menubar.addMenu('View')\n",
    "\n",
    "        viewStatAct = QAction('View statusbar', self, checkable=True)\n",
    "        viewStatAct.setStatusTip('View statusbar')\n",
    "        viewStatAct.setChecked(True)\n",
    "        viewStatAct.triggered.connect(self.toggleMenu)\n",
    "\n",
    "        viewMenu.addAction(viewStatAct)\n",
    "\n",
    "        self.setGeometry(300, 300, 300, 200)\n",
    "        self.setWindowTitle('Check menu')\n",
    "        self.show()\n",
    "\n",
    "    def toggleMenu(self, state):\n",
    "\n",
    "        if state:\n",
    "            self.statusbar.show()\n",
    "        else:\n",
    "            self.statusbar.hide()\n",
    "\n",
    "    def creatToolbar(self):\n",
    "        exitAct = QAction(QIcon('exit.png'), 'Exit', self)\n",
    "        exitAct.setShortcut('Ctrl+Q')\n",
    "        exitAct.triggered.connect(qApp.quit)\n",
    "\n",
    "        self.toolbar = self.addToolBar('Exit')\n",
    "        self.toolbar.addAction(exitAct)\n",
    "\n",
    "        self.setGeometry(300, 300, 300, 200)\n",
    "        self.setWindowTitle('Toolbar')\n",
    "        self.show()\n",
    "    \n",
    "    \"\"\"\n",
    "    def createBoxLayout(self):\n",
    "        self.imgLabel = QtWidgets.QLabel(self.window)\n",
    "        #self.window.setGeometry(300,100,500,350) #MainWindow Size\n",
    "        self.imgLabel.setGeometry(0, 50,300,280)\n",
    "        self.imgLabel.setObjectName(\"img_pane\")\n",
    "        self.imgLabel.setText(\"Add Image or start webcam to begin!\")\n",
    "        #self.imgLabel.setStyleSheet(\"background-color: black;\")\n",
    "        self.imgLabel.setWordWrap(True)\n",
    "        self.imgLabel.setAlignment(QtCore.Qt.AlignCenter)\n",
    "\n",
    "\n",
    "        self.optlabel = QtWidgets.QLabel(self.window)\n",
    "        self.optlabel.setGeometry(300,50,200,280)\n",
    "        self.optlabel.setObjectName(\"opt_pane\")\n",
    "        self.optlabel.setText(\" Welcome!\")\n",
    "        #self.optlabel.setStyleSheet(\"background-color: gray;\")\n",
    "        self.optlabel.setWordWrap(True)\n",
    "        self.optlabel.setAlignment(QtCore.Qt.AlignCenter)\n",
    "    \"\"\"\n",
    "\n",
    "\n",
    "def main():\n",
    "    app = QApplication(sys.argv)\n",
    "    ex = Example()\n",
    "    sys.exit(app.exec_())\n",
    "\n",
    "\n",
    "if __name__ == '__main__':\n",
    "    main()"
   ]
  },
  {
   "cell_type": "code",
   "execution_count": null,
   "metadata": {},
   "outputs": [],
   "source": []
  },
  {
   "cell_type": "code",
   "execution_count": null,
   "metadata": {},
   "outputs": [],
   "source": []
  }
 ],
 "metadata": {
  "kernelspec": {
   "display_name": "Python 3.10.4 64-bit",
   "language": "python",
   "name": "python3"
  },
  "language_info": {
   "codemirror_mode": {
    "name": "ipython",
    "version": 3
   },
   "file_extension": ".py",
   "mimetype": "text/x-python",
   "name": "python",
   "nbconvert_exporter": "python",
   "pygments_lexer": "ipython3",
   "version": "3.10.4"
  },
  "orig_nbformat": 4,
  "vscode": {
   "interpreter": {
    "hash": "ffd44c0fe5a3ec242ee01199f8a2599f29a6a837f142006015371c54e41a6e4e"
   }
  }
 },
 "nbformat": 4,
 "nbformat_minor": 2
}
