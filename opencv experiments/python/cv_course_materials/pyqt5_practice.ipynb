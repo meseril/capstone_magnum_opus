{
 "cells": [
  {
   "cell_type": "code",
   "execution_count": 6,
   "metadata": {},
   "outputs": [
    {
     "data": {
      "text/plain": [
       "0"
      ]
     },
     "execution_count": 6,
     "metadata": {},
     "output_type": "execute_result"
    }
   ],
   "source": [
    "import PyQt5.QtWidgets as qtw\n",
    "import PyQt5.QtGui as qtg\n",
    "from PyQt5.QtGui import QPixmap, QImage, QIcon\n",
    "\n",
    "# make sure to add these imports, so that jupyter notebook stops crashing when closed\n",
    "from PyQt5.QtCore import QCoreApplication\n",
    "from PyQt5.QtWidgets import QApplication, QDialog\n",
    "import sys \n",
    "\n",
    "class MainWindow(qtw.QWidget):\n",
    "    def __init__(self):\n",
    "        super().__init__()\n",
    "\n",
    "        \n",
    "        # Add a Title \n",
    "        self.setWindowTitle(\"dem boii!! she thhicc boi\")\n",
    "        self.setWindowIcon(QIcon(\"./camus.jpg\"))\n",
    "\n",
    "\n",
    "        # Set Vertical layout\n",
    "        self.setLayout(qtw.QVBoxLayout())\n",
    "\n",
    "        # Create a label\n",
    "        my_label = qtw.QLabel(\"Hello World\")\n",
    "        # Change the font size of label\n",
    "        my_label.setFont(qtg.QFont(\"Helvetica\", 18))\n",
    "        self.layout().addWidget(my_label)\n",
    "\n",
    "        # create an entry box\n",
    "        my_entry = qtw.QLineEdit()\n",
    "        my_entry.setObjectName(\"name_field\")\n",
    "        self.layout().addWidget(my_entry)\n",
    "\n",
    "        # create a button\n",
    "        my_button = qtw.QPushButton(\"Press Me!\",\n",
    "            clicked = lambda: press_it())\n",
    "        self.layout().addWidget(my_button)\n",
    "        \n",
    "        # show the app\n",
    "        self.show()\n",
    "\n",
    "        def press_it():\n",
    "            # add name to my_label\n",
    "            my_label.setText(f\"Hello, {my_entry.text()}\")\n",
    "\n",
    "            # clear the empty box\n",
    "            my_entry.setText(\"\")\n",
    "\n",
    "\n",
    "# make sure to add this so that jupyter notebook stops crashing when closed\n",
    "app = QCoreApplication.instance()\n",
    "if app is None:\n",
    "    app = QApplication(sys.argv)\n",
    "\n",
    "mw = MainWindow()\n",
    "\n",
    "# Run the app\n",
    "app.exec_()\n"
   ]
  },
  {
   "cell_type": "code",
   "execution_count": null,
   "metadata": {},
   "outputs": [],
   "source": []
  }
 ],
 "metadata": {
  "kernelspec": {
   "display_name": "Python 3.10.4 64-bit",
   "language": "python",
   "name": "python3"
  },
  "language_info": {
   "codemirror_mode": {
    "name": "ipython",
    "version": 3
   },
   "file_extension": ".py",
   "mimetype": "text/x-python",
   "name": "python",
   "nbconvert_exporter": "python",
   "pygments_lexer": "ipython3",
   "version": "3.10.4"
  },
  "orig_nbformat": 4,
  "vscode": {
   "interpreter": {
    "hash": "ffd44c0fe5a3ec242ee01199f8a2599f29a6a837f142006015371c54e41a6e4e"
   }
  }
 },
 "nbformat": 4,
 "nbformat_minor": 2
}
