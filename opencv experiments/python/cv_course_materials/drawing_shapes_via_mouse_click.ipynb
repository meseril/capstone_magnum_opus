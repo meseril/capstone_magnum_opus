{
 "cells": [
  {
   "cell_type": "code",
   "execution_count": 3,
   "metadata": {},
   "outputs": [
    {
     "ename": "NameError",
     "evalue": "name 'draw' is not defined",
     "output_type": "error",
     "traceback": [
      "\u001b[1;31m---------------------------------------------------------------------------\u001b[0m",
      "\u001b[1;31mNameError\u001b[0m                                 Traceback (most recent call last)",
      "\u001b[1;32mc:\\Users\\Server_PC\\Desktop\\drawing_shapes_via_mouse_click.ipynb Cell 2'\u001b[0m in \u001b[0;36mrectangle_shape\u001b[1;34m(event, x, y, flagval, par)\u001b[0m\n\u001b[0;32m     <a href='vscode-notebook-cell:/c%3A/Users/Server_PC/Desktop/drawing_shapes_via_mouse_click.ipynb#ch0000001?line=12'>13</a>\u001b[0m     ix,iy \u001b[39m=\u001b[39m x,y \n\u001b[0;32m     <a href='vscode-notebook-cell:/c%3A/Users/Server_PC/Desktop/drawing_shapes_via_mouse_click.ipynb#ch0000001?line=14'>15</a>\u001b[0m \u001b[39melif\u001b[39;00m event \u001b[39m==\u001b[39m cv2\u001b[39m.\u001b[39mEVENT_MOUSEMOVE:\n\u001b[0;32m     <a href='vscode-notebook-cell:/c%3A/Users/Server_PC/Desktop/drawing_shapes_via_mouse_click.ipynb#ch0000001?line=15'>16</a>\u001b[0m     \u001b[39m# dragging the mouse at this juncture\u001b[39;00m\n\u001b[1;32m---> <a href='vscode-notebook-cell:/c%3A/Users/Server_PC/Desktop/drawing_shapes_via_mouse_click.ipynb#ch0000001?line=16'>17</a>\u001b[0m     \u001b[39mif\u001b[39;00m draw \u001b[39m==\u001b[39m \u001b[39mTrue\u001b[39;00m:\n\u001b[0;32m     <a href='vscode-notebook-cell:/c%3A/Users/Server_PC/Desktop/drawing_shapes_via_mouse_click.ipynb#ch0000001?line=17'>18</a>\u001b[0m         \u001b[39m# if draw is True then it means you've clicked on the left mouse button\u001b[39;00m\n\u001b[0;32m     <a href='vscode-notebook-cell:/c%3A/Users/Server_PC/Desktop/drawing_shapes_via_mouse_click.ipynb#ch0000001?line=18'>19</a>\u001b[0m         \u001b[39m# here we will draw a rectangle from the previous position to the x,y where the mouse is currently located\u001b[39;00m\n\u001b[0;32m     <a href='vscode-notebook-cell:/c%3A/Users/Server_PC/Desktop/drawing_shapes_via_mouse_click.ipynb#ch0000001?line=19'>20</a>\u001b[0m         cv2\u001b[39m.\u001b[39mrectangle(image_window,(ix,iy),(x,y),(\u001b[39m255\u001b[39m,\u001b[39m0\u001b[39m,\u001b[39m0\u001b[39m),\u001b[39m-\u001b[39m\u001b[39m1\u001b[39m)\n\u001b[0;32m     <a href='vscode-notebook-cell:/c%3A/Users/Server_PC/Desktop/drawing_shapes_via_mouse_click.ipynb#ch0000001?line=21'>22</a>\u001b[0m \u001b[39melif\u001b[39;00m event \u001b[39m==\u001b[39m cv2\u001b[39m.\u001b[39mEVENT_LBUTTONUP:\n\u001b[0;32m     <a href='vscode-notebook-cell:/c%3A/Users/Server_PC/Desktop/drawing_shapes_via_mouse_click.ipynb#ch0000001?line=22'>23</a>\u001b[0m     \u001b[39m# as soon as you release the mouse button, variable draw will set as false\u001b[39;00m\n",
      "\u001b[1;31mNameError\u001b[0m: name 'draw' is not defined"
     ]
    },
    {
     "ename": "NameError",
     "evalue": "name 'draw' is not defined",
     "output_type": "error",
     "traceback": [
      "\u001b[1;31m---------------------------------------------------------------------------\u001b[0m",
      "\u001b[1;31mNameError\u001b[0m                                 Traceback (most recent call last)",
      "\u001b[1;32mc:\\Users\\Server_PC\\Desktop\\drawing_shapes_via_mouse_click.ipynb Cell 2'\u001b[0m in \u001b[0;36mrectangle_shape\u001b[1;34m(event, x, y, flagval, par)\u001b[0m\n\u001b[0;32m     <a href='vscode-notebook-cell:/c%3A/Users/Server_PC/Desktop/drawing_shapes_via_mouse_click.ipynb#ch0000001?line=12'>13</a>\u001b[0m     ix,iy \u001b[39m=\u001b[39m x,y \n\u001b[0;32m     <a href='vscode-notebook-cell:/c%3A/Users/Server_PC/Desktop/drawing_shapes_via_mouse_click.ipynb#ch0000001?line=14'>15</a>\u001b[0m \u001b[39melif\u001b[39;00m event \u001b[39m==\u001b[39m cv2\u001b[39m.\u001b[39mEVENT_MOUSEMOVE:\n\u001b[0;32m     <a href='vscode-notebook-cell:/c%3A/Users/Server_PC/Desktop/drawing_shapes_via_mouse_click.ipynb#ch0000001?line=15'>16</a>\u001b[0m     \u001b[39m# dragging the mouse at this juncture\u001b[39;00m\n\u001b[1;32m---> <a href='vscode-notebook-cell:/c%3A/Users/Server_PC/Desktop/drawing_shapes_via_mouse_click.ipynb#ch0000001?line=16'>17</a>\u001b[0m     \u001b[39mif\u001b[39;00m draw \u001b[39m==\u001b[39m \u001b[39mTrue\u001b[39;00m:\n\u001b[0;32m     <a href='vscode-notebook-cell:/c%3A/Users/Server_PC/Desktop/drawing_shapes_via_mouse_click.ipynb#ch0000001?line=17'>18</a>\u001b[0m         \u001b[39m# if draw is True then it means you've clicked on the left mouse button\u001b[39;00m\n\u001b[0;32m     <a href='vscode-notebook-cell:/c%3A/Users/Server_PC/Desktop/drawing_shapes_via_mouse_click.ipynb#ch0000001?line=18'>19</a>\u001b[0m         \u001b[39m# here we will draw a rectangle from the previous position to the x,y where the mouse is currently located\u001b[39;00m\n\u001b[0;32m     <a href='vscode-notebook-cell:/c%3A/Users/Server_PC/Desktop/drawing_shapes_via_mouse_click.ipynb#ch0000001?line=19'>20</a>\u001b[0m         cv2\u001b[39m.\u001b[39mrectangle(image_window,(ix,iy),(x,y),(\u001b[39m255\u001b[39m,\u001b[39m0\u001b[39m,\u001b[39m0\u001b[39m),\u001b[39m-\u001b[39m\u001b[39m1\u001b[39m)\n\u001b[0;32m     <a href='vscode-notebook-cell:/c%3A/Users/Server_PC/Desktop/drawing_shapes_via_mouse_click.ipynb#ch0000001?line=21'>22</a>\u001b[0m \u001b[39melif\u001b[39;00m event \u001b[39m==\u001b[39m cv2\u001b[39m.\u001b[39mEVENT_LBUTTONUP:\n\u001b[0;32m     <a href='vscode-notebook-cell:/c%3A/Users/Server_PC/Desktop/drawing_shapes_via_mouse_click.ipynb#ch0000001?line=22'>23</a>\u001b[0m     \u001b[39m# as soon as you release the mouse button, variable draw will set as false\u001b[39;00m\n",
      "\u001b[1;31mNameError\u001b[0m: name 'draw' is not defined"
     ]
    },
    {
     "ename": "NameError",
     "evalue": "name 'draw' is not defined",
     "output_type": "error",
     "traceback": [
      "\u001b[1;31m---------------------------------------------------------------------------\u001b[0m",
      "\u001b[1;31mNameError\u001b[0m                                 Traceback (most recent call last)",
      "\u001b[1;32mc:\\Users\\Server_PC\\Desktop\\drawing_shapes_via_mouse_click.ipynb Cell 2'\u001b[0m in \u001b[0;36mrectangle_shape\u001b[1;34m(event, x, y, flagval, par)\u001b[0m\n\u001b[0;32m     <a href='vscode-notebook-cell:/c%3A/Users/Server_PC/Desktop/drawing_shapes_via_mouse_click.ipynb#ch0000001?line=12'>13</a>\u001b[0m     ix,iy \u001b[39m=\u001b[39m x,y \n\u001b[0;32m     <a href='vscode-notebook-cell:/c%3A/Users/Server_PC/Desktop/drawing_shapes_via_mouse_click.ipynb#ch0000001?line=14'>15</a>\u001b[0m \u001b[39melif\u001b[39;00m event \u001b[39m==\u001b[39m cv2\u001b[39m.\u001b[39mEVENT_MOUSEMOVE:\n\u001b[0;32m     <a href='vscode-notebook-cell:/c%3A/Users/Server_PC/Desktop/drawing_shapes_via_mouse_click.ipynb#ch0000001?line=15'>16</a>\u001b[0m     \u001b[39m# dragging the mouse at this juncture\u001b[39;00m\n\u001b[1;32m---> <a href='vscode-notebook-cell:/c%3A/Users/Server_PC/Desktop/drawing_shapes_via_mouse_click.ipynb#ch0000001?line=16'>17</a>\u001b[0m     \u001b[39mif\u001b[39;00m draw \u001b[39m==\u001b[39m \u001b[39mTrue\u001b[39;00m:\n\u001b[0;32m     <a href='vscode-notebook-cell:/c%3A/Users/Server_PC/Desktop/drawing_shapes_via_mouse_click.ipynb#ch0000001?line=17'>18</a>\u001b[0m         \u001b[39m# if draw is True then it means you've clicked on the left mouse button\u001b[39;00m\n\u001b[0;32m     <a href='vscode-notebook-cell:/c%3A/Users/Server_PC/Desktop/drawing_shapes_via_mouse_click.ipynb#ch0000001?line=18'>19</a>\u001b[0m         \u001b[39m# here we will draw a rectangle from the previous position to the x,y where the mouse is currently located\u001b[39;00m\n\u001b[0;32m     <a href='vscode-notebook-cell:/c%3A/Users/Server_PC/Desktop/drawing_shapes_via_mouse_click.ipynb#ch0000001?line=19'>20</a>\u001b[0m         cv2\u001b[39m.\u001b[39mrectangle(image_window,(ix,iy),(x,y),(\u001b[39m255\u001b[39m,\u001b[39m0\u001b[39m,\u001b[39m0\u001b[39m),\u001b[39m-\u001b[39m\u001b[39m1\u001b[39m)\n\u001b[0;32m     <a href='vscode-notebook-cell:/c%3A/Users/Server_PC/Desktop/drawing_shapes_via_mouse_click.ipynb#ch0000001?line=21'>22</a>\u001b[0m \u001b[39melif\u001b[39;00m event \u001b[39m==\u001b[39m cv2\u001b[39m.\u001b[39mEVENT_LBUTTONUP:\n\u001b[0;32m     <a href='vscode-notebook-cell:/c%3A/Users/Server_PC/Desktop/drawing_shapes_via_mouse_click.ipynb#ch0000001?line=22'>23</a>\u001b[0m     \u001b[39m# as soon as you release the mouse button, variable draw will set as false\u001b[39;00m\n",
      "\u001b[1;31mNameError\u001b[0m: name 'draw' is not defined"
     ]
    },
    {
     "ename": "NameError",
     "evalue": "name 'draw' is not defined",
     "output_type": "error",
     "traceback": [
      "\u001b[1;31m---------------------------------------------------------------------------\u001b[0m",
      "\u001b[1;31mNameError\u001b[0m                                 Traceback (most recent call last)",
      "\u001b[1;32mc:\\Users\\Server_PC\\Desktop\\drawing_shapes_via_mouse_click.ipynb Cell 2'\u001b[0m in \u001b[0;36mrectangle_shape\u001b[1;34m(event, x, y, flagval, par)\u001b[0m\n\u001b[0;32m     <a href='vscode-notebook-cell:/c%3A/Users/Server_PC/Desktop/drawing_shapes_via_mouse_click.ipynb#ch0000001?line=12'>13</a>\u001b[0m     ix,iy \u001b[39m=\u001b[39m x,y \n\u001b[0;32m     <a href='vscode-notebook-cell:/c%3A/Users/Server_PC/Desktop/drawing_shapes_via_mouse_click.ipynb#ch0000001?line=14'>15</a>\u001b[0m \u001b[39melif\u001b[39;00m event \u001b[39m==\u001b[39m cv2\u001b[39m.\u001b[39mEVENT_MOUSEMOVE:\n\u001b[0;32m     <a href='vscode-notebook-cell:/c%3A/Users/Server_PC/Desktop/drawing_shapes_via_mouse_click.ipynb#ch0000001?line=15'>16</a>\u001b[0m     \u001b[39m# dragging the mouse at this juncture\u001b[39;00m\n\u001b[1;32m---> <a href='vscode-notebook-cell:/c%3A/Users/Server_PC/Desktop/drawing_shapes_via_mouse_click.ipynb#ch0000001?line=16'>17</a>\u001b[0m     \u001b[39mif\u001b[39;00m draw \u001b[39m==\u001b[39m \u001b[39mTrue\u001b[39;00m:\n\u001b[0;32m     <a href='vscode-notebook-cell:/c%3A/Users/Server_PC/Desktop/drawing_shapes_via_mouse_click.ipynb#ch0000001?line=17'>18</a>\u001b[0m         \u001b[39m# if draw is True then it means you've clicked on the left mouse button\u001b[39;00m\n\u001b[0;32m     <a href='vscode-notebook-cell:/c%3A/Users/Server_PC/Desktop/drawing_shapes_via_mouse_click.ipynb#ch0000001?line=18'>19</a>\u001b[0m         \u001b[39m# here we will draw a rectangle from the previous position to the x,y where the mouse is currently located\u001b[39;00m\n\u001b[0;32m     <a href='vscode-notebook-cell:/c%3A/Users/Server_PC/Desktop/drawing_shapes_via_mouse_click.ipynb#ch0000001?line=19'>20</a>\u001b[0m         cv2\u001b[39m.\u001b[39mrectangle(image_window,(ix,iy),(x,y),(\u001b[39m255\u001b[39m,\u001b[39m0\u001b[39m,\u001b[39m0\u001b[39m),\u001b[39m-\u001b[39m\u001b[39m1\u001b[39m)\n\u001b[0;32m     <a href='vscode-notebook-cell:/c%3A/Users/Server_PC/Desktop/drawing_shapes_via_mouse_click.ipynb#ch0000001?line=21'>22</a>\u001b[0m \u001b[39melif\u001b[39;00m event \u001b[39m==\u001b[39m cv2\u001b[39m.\u001b[39mEVENT_LBUTTONUP:\n\u001b[0;32m     <a href='vscode-notebook-cell:/c%3A/Users/Server_PC/Desktop/drawing_shapes_via_mouse_click.ipynb#ch0000001?line=22'>23</a>\u001b[0m     \u001b[39m# as soon as you release the mouse button, variable draw will set as false\u001b[39;00m\n",
      "\u001b[1;31mNameError\u001b[0m: name 'draw' is not defined"
     ]
    },
    {
     "ename": "NameError",
     "evalue": "name 'draw' is not defined",
     "output_type": "error",
     "traceback": [
      "\u001b[1;31m---------------------------------------------------------------------------\u001b[0m",
      "\u001b[1;31mNameError\u001b[0m                                 Traceback (most recent call last)",
      "\u001b[1;32mc:\\Users\\Server_PC\\Desktop\\drawing_shapes_via_mouse_click.ipynb Cell 2'\u001b[0m in \u001b[0;36mrectangle_shape\u001b[1;34m(event, x, y, flagval, par)\u001b[0m\n\u001b[0;32m     <a href='vscode-notebook-cell:/c%3A/Users/Server_PC/Desktop/drawing_shapes_via_mouse_click.ipynb#ch0000001?line=12'>13</a>\u001b[0m     ix,iy \u001b[39m=\u001b[39m x,y \n\u001b[0;32m     <a href='vscode-notebook-cell:/c%3A/Users/Server_PC/Desktop/drawing_shapes_via_mouse_click.ipynb#ch0000001?line=14'>15</a>\u001b[0m \u001b[39melif\u001b[39;00m event \u001b[39m==\u001b[39m cv2\u001b[39m.\u001b[39mEVENT_MOUSEMOVE:\n\u001b[0;32m     <a href='vscode-notebook-cell:/c%3A/Users/Server_PC/Desktop/drawing_shapes_via_mouse_click.ipynb#ch0000001?line=15'>16</a>\u001b[0m     \u001b[39m# dragging the mouse at this juncture\u001b[39;00m\n\u001b[1;32m---> <a href='vscode-notebook-cell:/c%3A/Users/Server_PC/Desktop/drawing_shapes_via_mouse_click.ipynb#ch0000001?line=16'>17</a>\u001b[0m     \u001b[39mif\u001b[39;00m draw \u001b[39m==\u001b[39m \u001b[39mTrue\u001b[39;00m:\n\u001b[0;32m     <a href='vscode-notebook-cell:/c%3A/Users/Server_PC/Desktop/drawing_shapes_via_mouse_click.ipynb#ch0000001?line=17'>18</a>\u001b[0m         \u001b[39m# if draw is True then it means you've clicked on the left mouse button\u001b[39;00m\n\u001b[0;32m     <a href='vscode-notebook-cell:/c%3A/Users/Server_PC/Desktop/drawing_shapes_via_mouse_click.ipynb#ch0000001?line=18'>19</a>\u001b[0m         \u001b[39m# here we will draw a rectangle from the previous position to the x,y where the mouse is currently located\u001b[39;00m\n\u001b[0;32m     <a href='vscode-notebook-cell:/c%3A/Users/Server_PC/Desktop/drawing_shapes_via_mouse_click.ipynb#ch0000001?line=19'>20</a>\u001b[0m         cv2\u001b[39m.\u001b[39mrectangle(image_window,(ix,iy),(x,y),(\u001b[39m255\u001b[39m,\u001b[39m0\u001b[39m,\u001b[39m0\u001b[39m),\u001b[39m-\u001b[39m\u001b[39m1\u001b[39m)\n\u001b[0;32m     <a href='vscode-notebook-cell:/c%3A/Users/Server_PC/Desktop/drawing_shapes_via_mouse_click.ipynb#ch0000001?line=21'>22</a>\u001b[0m \u001b[39melif\u001b[39;00m event \u001b[39m==\u001b[39m cv2\u001b[39m.\u001b[39mEVENT_LBUTTONUP:\n\u001b[0;32m     <a href='vscode-notebook-cell:/c%3A/Users/Server_PC/Desktop/drawing_shapes_via_mouse_click.ipynb#ch0000001?line=22'>23</a>\u001b[0m     \u001b[39m# as soon as you release the mouse button, variable draw will set as false\u001b[39;00m\n",
      "\u001b[1;31mNameError\u001b[0m: name 'draw' is not defined"
     ]
    },
    {
     "ename": "NameError",
     "evalue": "name 'draw' is not defined",
     "output_type": "error",
     "traceback": [
      "\u001b[1;31m---------------------------------------------------------------------------\u001b[0m",
      "\u001b[1;31mNameError\u001b[0m                                 Traceback (most recent call last)",
      "\u001b[1;32mc:\\Users\\Server_PC\\Desktop\\drawing_shapes_via_mouse_click.ipynb Cell 2'\u001b[0m in \u001b[0;36mrectangle_shape\u001b[1;34m(event, x, y, flagval, par)\u001b[0m\n\u001b[0;32m     <a href='vscode-notebook-cell:/c%3A/Users/Server_PC/Desktop/drawing_shapes_via_mouse_click.ipynb#ch0000001?line=12'>13</a>\u001b[0m     ix,iy \u001b[39m=\u001b[39m x,y \n\u001b[0;32m     <a href='vscode-notebook-cell:/c%3A/Users/Server_PC/Desktop/drawing_shapes_via_mouse_click.ipynb#ch0000001?line=14'>15</a>\u001b[0m \u001b[39melif\u001b[39;00m event \u001b[39m==\u001b[39m cv2\u001b[39m.\u001b[39mEVENT_MOUSEMOVE:\n\u001b[0;32m     <a href='vscode-notebook-cell:/c%3A/Users/Server_PC/Desktop/drawing_shapes_via_mouse_click.ipynb#ch0000001?line=15'>16</a>\u001b[0m     \u001b[39m# dragging the mouse at this juncture\u001b[39;00m\n\u001b[1;32m---> <a href='vscode-notebook-cell:/c%3A/Users/Server_PC/Desktop/drawing_shapes_via_mouse_click.ipynb#ch0000001?line=16'>17</a>\u001b[0m     \u001b[39mif\u001b[39;00m draw \u001b[39m==\u001b[39m \u001b[39mTrue\u001b[39;00m:\n\u001b[0;32m     <a href='vscode-notebook-cell:/c%3A/Users/Server_PC/Desktop/drawing_shapes_via_mouse_click.ipynb#ch0000001?line=17'>18</a>\u001b[0m         \u001b[39m# if draw is True then it means you've clicked on the left mouse button\u001b[39;00m\n\u001b[0;32m     <a href='vscode-notebook-cell:/c%3A/Users/Server_PC/Desktop/drawing_shapes_via_mouse_click.ipynb#ch0000001?line=18'>19</a>\u001b[0m         \u001b[39m# here we will draw a rectangle from the previous position to the x,y where the mouse is currently located\u001b[39;00m\n\u001b[0;32m     <a href='vscode-notebook-cell:/c%3A/Users/Server_PC/Desktop/drawing_shapes_via_mouse_click.ipynb#ch0000001?line=19'>20</a>\u001b[0m         cv2\u001b[39m.\u001b[39mrectangle(image_window,(ix,iy),(x,y),(\u001b[39m255\u001b[39m,\u001b[39m0\u001b[39m,\u001b[39m0\u001b[39m),\u001b[39m-\u001b[39m\u001b[39m1\u001b[39m)\n\u001b[0;32m     <a href='vscode-notebook-cell:/c%3A/Users/Server_PC/Desktop/drawing_shapes_via_mouse_click.ipynb#ch0000001?line=21'>22</a>\u001b[0m \u001b[39melif\u001b[39;00m event \u001b[39m==\u001b[39m cv2\u001b[39m.\u001b[39mEVENT_LBUTTONUP:\n\u001b[0;32m     <a href='vscode-notebook-cell:/c%3A/Users/Server_PC/Desktop/drawing_shapes_via_mouse_click.ipynb#ch0000001?line=22'>23</a>\u001b[0m     \u001b[39m# as soon as you release the mouse button, variable draw will set as false\u001b[39;00m\n",
      "\u001b[1;31mNameError\u001b[0m: name 'draw' is not defined"
     ]
    },
    {
     "ename": "NameError",
     "evalue": "name 'draw' is not defined",
     "output_type": "error",
     "traceback": [
      "\u001b[1;31m---------------------------------------------------------------------------\u001b[0m",
      "\u001b[1;31mNameError\u001b[0m                                 Traceback (most recent call last)",
      "\u001b[1;32mc:\\Users\\Server_PC\\Desktop\\drawing_shapes_via_mouse_click.ipynb Cell 2'\u001b[0m in \u001b[0;36mrectangle_shape\u001b[1;34m(event, x, y, flagval, par)\u001b[0m\n\u001b[0;32m     <a href='vscode-notebook-cell:/c%3A/Users/Server_PC/Desktop/drawing_shapes_via_mouse_click.ipynb#ch0000001?line=12'>13</a>\u001b[0m     ix,iy \u001b[39m=\u001b[39m x,y \n\u001b[0;32m     <a href='vscode-notebook-cell:/c%3A/Users/Server_PC/Desktop/drawing_shapes_via_mouse_click.ipynb#ch0000001?line=14'>15</a>\u001b[0m \u001b[39melif\u001b[39;00m event \u001b[39m==\u001b[39m cv2\u001b[39m.\u001b[39mEVENT_MOUSEMOVE:\n\u001b[0;32m     <a href='vscode-notebook-cell:/c%3A/Users/Server_PC/Desktop/drawing_shapes_via_mouse_click.ipynb#ch0000001?line=15'>16</a>\u001b[0m     \u001b[39m# dragging the mouse at this juncture\u001b[39;00m\n\u001b[1;32m---> <a href='vscode-notebook-cell:/c%3A/Users/Server_PC/Desktop/drawing_shapes_via_mouse_click.ipynb#ch0000001?line=16'>17</a>\u001b[0m     \u001b[39mif\u001b[39;00m draw \u001b[39m==\u001b[39m \u001b[39mTrue\u001b[39;00m:\n\u001b[0;32m     <a href='vscode-notebook-cell:/c%3A/Users/Server_PC/Desktop/drawing_shapes_via_mouse_click.ipynb#ch0000001?line=17'>18</a>\u001b[0m         \u001b[39m# if draw is True then it means you've clicked on the left mouse button\u001b[39;00m\n\u001b[0;32m     <a href='vscode-notebook-cell:/c%3A/Users/Server_PC/Desktop/drawing_shapes_via_mouse_click.ipynb#ch0000001?line=18'>19</a>\u001b[0m         \u001b[39m# here we will draw a rectangle from the previous position to the x,y where the mouse is currently located\u001b[39;00m\n\u001b[0;32m     <a href='vscode-notebook-cell:/c%3A/Users/Server_PC/Desktop/drawing_shapes_via_mouse_click.ipynb#ch0000001?line=19'>20</a>\u001b[0m         cv2\u001b[39m.\u001b[39mrectangle(image_window,(ix,iy),(x,y),(\u001b[39m255\u001b[39m,\u001b[39m0\u001b[39m,\u001b[39m0\u001b[39m),\u001b[39m-\u001b[39m\u001b[39m1\u001b[39m)\n\u001b[0;32m     <a href='vscode-notebook-cell:/c%3A/Users/Server_PC/Desktop/drawing_shapes_via_mouse_click.ipynb#ch0000001?line=21'>22</a>\u001b[0m \u001b[39melif\u001b[39;00m event \u001b[39m==\u001b[39m cv2\u001b[39m.\u001b[39mEVENT_LBUTTONUP:\n\u001b[0;32m     <a href='vscode-notebook-cell:/c%3A/Users/Server_PC/Desktop/drawing_shapes_via_mouse_click.ipynb#ch0000001?line=22'>23</a>\u001b[0m     \u001b[39m# as soon as you release the mouse button, variable draw will set as false\u001b[39;00m\n",
      "\u001b[1;31mNameError\u001b[0m: name 'draw' is not defined"
     ]
    }
   ],
   "source": [
    "import cv2\n",
    "import numpy as np\n",
    "\n",
    "#Create a circle shape function to draw a circle on left button click event\n",
    "def circle_shape(event,x,y,flagval,par):\n",
    "    if event == cv2.EVENT_LBUTTONDOWN:\n",
    "        cv2.circle(image_window,(x,y),10,(255,0,0), 1)\n",
    "\n",
    "# create a rectangle shape function to draw a blue rectangle when mouse is dragged\n",
    "def rectangle_shape(event,x,y,flagval,par):\n",
    "    global draw, ix,iy \n",
    "    if event == cv2.EVENT_LBUTTONDOWN:\n",
    "        # value of variable draw will be set to True, when you press down left mouse button\n",
    "        draw = True\n",
    "        # mouse location is captured here\n",
    "        ix,iy = x,y \n",
    "\n",
    "    elif event == cv2.EVENT_MOUSEMOVE:\n",
    "        # dragging the mouse at this juncture\n",
    "        if draw == True:\n",
    "            # if draw is True then it means you've clicked on the left mouse button\n",
    "            # here we will draw a rectangle from the previous position to the x,y where the mouse is currently located\n",
    "            cv2.rectangle(image_window,(ix,iy),(x,y),(255,0,0),-1)\n",
    "\n",
    "    elif event == cv2.EVENT_LBUTTONUP:\n",
    "        # as soon as you release the mouse button, variable draw will set as false\n",
    "        draw = False\n",
    "        # here we are completing to draw the rectangle on the image window\n",
    "        cv2.rectangle(image_window,(ix,iy),(x,y),(255,0,0), -1)\n",
    "                 \n",
    "\n",
    "# naming the window so we can reference it\n",
    "cv2.namedWindow(winname= \"Image_Window\")\n",
    "\n",
    "# connecting the mouse button to the callback function\n",
    "cv2.setMouseCallback(\"Image_Window\",rectangle_shape)\n",
    "\n",
    "# creating a black image\n",
    "image_window = np.zeros((1024,1204,3),np.uint8)\n",
    "\n",
    "while True: # keep the black image window open until we break with Esc key on keyboard\n",
    "    # showing the image window\n",
    "    cv2.imshow(\"Image_Window\", image_window)\n",
    "\n",
    "    if cv2.waitKey(20) & 0xFF == 27: #27 is Esc\n",
    "        break\n",
    "\n",
    "cv2.destroyAllWindows()\n"
   ]
  },
  {
   "cell_type": "code",
   "execution_count": null,
   "metadata": {},
   "outputs": [],
   "source": []
  }
 ],
 "metadata": {
  "kernelspec": {
   "display_name": "Python 3.10.4 64-bit",
   "language": "python",
   "name": "python3"
  },
  "language_info": {
   "codemirror_mode": {
    "name": "ipython",
    "version": 3
   },
   "file_extension": ".py",
   "mimetype": "text/x-python",
   "name": "python",
   "nbconvert_exporter": "python",
   "pygments_lexer": "ipython3",
   "version": "3.10.4"
  },
  "orig_nbformat": 4,
  "vscode": {
   "interpreter": {
    "hash": "ffd44c0fe5a3ec242ee01199f8a2599f29a6a837f142006015371c54e41a6e4e"
   }
  }
 },
 "nbformat": 4,
 "nbformat_minor": 2
}
