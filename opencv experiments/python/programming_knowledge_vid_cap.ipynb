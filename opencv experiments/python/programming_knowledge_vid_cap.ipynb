{
 "cells": [
  {
   "cell_type": "code",
   "execution_count": 1,
   "metadata": {},
   "outputs": [],
   "source": [
    "import cv2"
   ]
  },
  {
   "cell_type": "code",
   "execution_count": 56,
   "metadata": {},
   "outputs": [
    {
     "name": "stdout",
     "output_type": "stream",
     "text": [
      "Video Dimension\n",
      "width 640 height 480\n",
      "isOpened() returned True\n",
      "\n",
      "received key q\n",
      "Successfully completed!\n"
     ]
    }
   ],
   "source": [
    "cap = cv2.VideoCapture(0)\n",
    "\n",
    "# inputs\n",
    "frame_width  = int(cap.get(cv2.CAP_PROP_FRAME_WIDTH))\n",
    "frame_height = int(cap.get(cv2.CAP_PROP_FRAME_HEIGHT))\n",
    "print(\"Video Dimension\")\n",
    "print(\"width\",frame_width,\"height\",frame_height)\n",
    "\n",
    "outfilename = 'output.avi'\n",
    "#FOURCC is used to specify the video codec\n",
    "# MJPG: very high quality but larg size (~16 times, vtest.avi's 8mb to 130mb).\n",
    "# XVID: niece with 1.5 time video size.\n",
    "# X264: good with half size .\n",
    "# Define the codec and create VideoWriter object\n",
    "fourcc     = cv2.VideoWriter_fourcc(*'XVID')\n",
    "fps          = cap.get(cv2.CAP_PROP_FPS)\n",
    "video_size   = (frame_width,frame_height) # very important to get the sequence right, (width,height) OR ELSE! you wont be able to play the video!!\n",
    "\n",
    "\n",
    "# for saving the video, we create the video writer\n",
    "out = cv2.VideoWriter(outfilename, fourcc, fps,video_size,0)\n",
    "\n",
    "\n",
    "\n",
    "print(\"isOpened() returned\", cap.isOpened())\n",
    "\n",
    "if(cap.isOpened()) == False:\n",
    "    print(\"Unable to read camera feed\")\n",
    "\n",
    "while (cap.isOpened()): #if the file name is correct: isOpened() will provide \"True\"\n",
    "    # reads frames from a camera\n",
    "\t# extracting the frames; ret checks return at each frame \n",
    "    ret, frame = cap.read()\n",
    "    # Tip for read the frame size\n",
    "    #print('ret =', ret, 'W =', frame.shape[1], 'H =', frame.shape[0], 'channel =', frame.shape[2])\n",
    "\n",
    "    if ret==True:\n",
    "        # Converts to HSV color space, OCV reads colors as BGR\n",
    "        # frame is converted to hsv or grayscale\n",
    "        hsv       = cv2.cvtColor(frame, cv2.COLOR_BGR2HSV)\n",
    "        # converting to gray-scale \n",
    "        grayscale = cv2.cvtColor(frame, cv2.COLOR_BGR2GRAY)\n",
    "\n",
    "        # saves the video defined in the \"out\" variable. filename: output.avi\n",
    "        out.write(grayscale)\n",
    "\n",
    "        # The original input frame is shown in the window\n",
    "        cv2.imshow('Feed - Press \"q\" to exit',grayscale)\n",
    "\n",
    "        if cv2.waitKey(1) & 0xFF == ord('q'):\n",
    "            print('\\nreceived key q' )\n",
    "            break\n",
    "    else:\n",
    "        break\n",
    "\n",
    "# Close the window / Release webcam\n",
    "cap.release()\n",
    "\n",
    "# After we release our webcam, we also release the output\n",
    "out.release()\n",
    "\n",
    "# De-allocate any associated memory usage\n",
    "cv2.destroyAllWindows()\n",
    "print('Successfully completed!')\n",
    "\n",
    "\n"
   ]
  },
  {
   "cell_type": "code",
   "execution_count": null,
   "metadata": {},
   "outputs": [],
   "source": []
  }
 ],
 "metadata": {
  "kernelspec": {
   "display_name": "Python 3.10.4 64-bit",
   "language": "python",
   "name": "python3"
  },
  "language_info": {
   "codemirror_mode": {
    "name": "ipython",
    "version": 3
   },
   "file_extension": ".py",
   "mimetype": "text/x-python",
   "name": "python",
   "nbconvert_exporter": "python",
   "pygments_lexer": "ipython3",
   "version": "3.10.4"
  },
  "orig_nbformat": 4,
  "vscode": {
   "interpreter": {
    "hash": "ffd44c0fe5a3ec242ee01199f8a2599f29a6a837f142006015371c54e41a6e4e"
   }
  }
 },
 "nbformat": 4,
 "nbformat_minor": 2
}
