{
 "cells": [
  {
   "cell_type": "code",
   "execution_count": 1,
   "metadata": {},
   "outputs": [
    {
     "name": "stdout",
     "output_type": "stream",
     "text": [
      "Closing Window...\n"
     ]
    }
   ],
   "source": [
    "from PyQt5.QtWidgets import QApplication,QWidget\n",
    "from PyQt5 import uic\n",
    "import sys\n",
    "\n",
    "class UI(QWidget):\n",
    "    def __init__(self):\n",
    "        super().__init__()\n",
    "        uic.loadUi(\"mybutton.ui\", self)\n",
    "\n",
    "        #find our widgets\n",
    "        button = self.findChild\n",
    "\n",
    "\n",
    "if __name__ == '__main__':\n",
    "    # in every pyqt application it is required to create the object of QApplication\n",
    "    app = QApplication([]) # sys.argv is useful if going to use command line arguments () else just replace with []\n",
    "    # initialize and show Qwidget object\n",
    "    ui = UI()\n",
    "    ui.show()\n",
    "\n",
    "    try:\n",
    "        sys.exit(app.exec_())\n",
    "    except SystemExit:\n",
    "        print(\"Closing Window...\")\n",
    "\n"
   ]
  },
  {
   "cell_type": "code",
   "execution_count": null,
   "metadata": {},
   "outputs": [],
   "source": []
  }
 ],
 "metadata": {
  "kernelspec": {
   "display_name": "Python 3.10.4 64-bit",
   "language": "python",
   "name": "python3"
  },
  "language_info": {
   "codemirror_mode": {
    "name": "ipython",
    "version": 3
   },
   "file_extension": ".py",
   "mimetype": "text/x-python",
   "name": "python",
   "nbconvert_exporter": "python",
   "pygments_lexer": "ipython3",
   "version": "3.10.4"
  },
  "orig_nbformat": 4,
  "vscode": {
   "interpreter": {
    "hash": "ffd44c0fe5a3ec242ee01199f8a2599f29a6a837f142006015371c54e41a6e4e"
   }
  }
 },
 "nbformat": 4,
 "nbformat_minor": 2
}
