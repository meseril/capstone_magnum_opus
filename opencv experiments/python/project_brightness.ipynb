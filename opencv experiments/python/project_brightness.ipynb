{
 "cells": [
  {
   "cell_type": "code",
   "execution_count": 2,
   "metadata": {},
   "outputs": [],
   "source": [
    "import numpy as np\n",
    "import cv2"
   ]
  },
  {
   "cell_type": "code",
   "execution_count": 3,
   "metadata": {},
   "outputs": [],
   "source": [
    "img = cv2.imread(\"./Project_Controlling_brightness_with_GUI_using_opencv/images/car.jpg\")\n",
    "cv2.imshow(\"car\", img)\n",
    "cv2.waitKey(0)\n",
    "cv2.destroyAllWindows()\n"
   ]
  },
  {
   "cell_type": "code",
   "execution_count": 4,
   "metadata": {},
   "outputs": [
    {
     "ename": "error",
     "evalue": "OpenCV(4.6.0) D:\\a\\opencv-python\\opencv-python\\opencv\\modules\\highgui\\src\\window_w32.cpp:2581: error: (-27:Null pointer) NULL window: 'Brightness Control' in function 'cvGetTrackbarPos'\n",
     "output_type": "error",
     "traceback": [
      "\u001b[1;31m---------------------------------------------------------------------------\u001b[0m",
      "\u001b[1;31merror\u001b[0m                                     Traceback (most recent call last)",
      "\u001b[1;32mc:\\Users\\Server_PC\\Documents\\python\\project_brightness.ipynb Cell 3'\u001b[0m in \u001b[0;36m<cell line: 9>\u001b[1;34m()\u001b[0m\n\u001b[0;32m      <a href='vscode-notebook-cell:/c%3A/Users/Server_PC/Documents/python/project_brightness.ipynb#ch0000002?line=5'>6</a>\u001b[0m value \u001b[39m=\u001b[39m np\u001b[39m.\u001b[39mones_like(img,dtype\u001b[39m=\u001b[39m\u001b[39m\"\u001b[39m\u001b[39muint8\u001b[39m\u001b[39m\"\u001b[39m)\n\u001b[0;32m      <a href='vscode-notebook-cell:/c%3A/Users/Server_PC/Documents/python/project_brightness.ipynb#ch0000002?line=8'>9</a>\u001b[0m \u001b[39mwhile\u001b[39;00m \u001b[39mTrue\u001b[39;00m:\n\u001b[1;32m---> <a href='vscode-notebook-cell:/c%3A/Users/Server_PC/Documents/python/project_brightness.ipynb#ch0000002?line=9'>10</a>\u001b[0m     bright \u001b[39m=\u001b[39m cv2\u001b[39m.\u001b[39;49mgetTrackbarPos(\u001b[39m\"\u001b[39;49m\u001b[39mBrightness\u001b[39;49m\u001b[39m\"\u001b[39;49m, \u001b[39m\"\u001b[39;49m\u001b[39mBrightness Control\u001b[39;49m\u001b[39m\"\u001b[39;49m)\n\u001b[0;32m     <a href='vscode-notebook-cell:/c%3A/Users/Server_PC/Documents/python/project_brightness.ipynb#ch0000002?line=10'>11</a>\u001b[0m     bar \u001b[39m=\u001b[39m bright \u001b[39m-\u001b[39m \u001b[39m127\u001b[39m\n\u001b[0;32m     <a href='vscode-notebook-cell:/c%3A/Users/Server_PC/Documents/python/project_brightness.ipynb#ch0000002?line=12'>13</a>\u001b[0m     \u001b[39mif\u001b[39;00m bar \u001b[39m>\u001b[39m\u001b[39m=\u001b[39m\u001b[39m0\u001b[39m:\n",
      "\u001b[1;31merror\u001b[0m: OpenCV(4.6.0) D:\\a\\opencv-python\\opencv-python\\opencv\\modules\\highgui\\src\\window_w32.cpp:2581: error: (-27:Null pointer) NULL window: 'Brightness Control' in function 'cvGetTrackbarPos'\n"
     ]
    }
   ],
   "source": [
    "def nothing(x):\n",
    "    pass\n",
    "\n",
    "cv2.namedWindow(\"Brightness Control\")\n",
    "bright = cv2.createTrackbar(\"Brightness\",\"Brightness Control\", 75, 255, nothing)\n",
    "value = np.ones_like(img,dtype=\"uint8\")\n",
    "\n",
    "\n",
    "while True:\n",
    "    bright = cv2.getTrackbarPos(\"Brightness\", \"Brightness Control\")\n",
    "    bar = bright - 127\n",
    "\n",
    "    if bar >=0:\n",
    "        value = np.ones_like(img, dtype= \"uint8\")*bar\n",
    "        img_ctrl = cv2.add(img, value)\n",
    "\n",
    "    else:\n",
    "        bright = 127 - bright\n",
    "        value = np.ones_like(img,dtype=\"uint8\")*bright\n",
    "        img_ctrl = cv2.subtract(img,value)\n",
    "\n",
    "    cv2.imshow(\"Brightness Control\", img_ctrl)\n",
    "\n",
    "    if cv2.waitKey(1) == 27: #esc button pressed\n",
    "        break\n",
    "   \n",
    "cv2.destroyAllWindows()"
   ]
  },
  {
   "cell_type": "markdown",
   "metadata": {},
   "source": [
    "Apply Brightness to Video"
   ]
  },
  {
   "cell_type": "code",
   "execution_count": 5,
   "metadata": {},
   "outputs": [],
   "source": [
    "def brightness_ctrl(image, bright):\n",
    "    bar = bright - 127\n",
    "\n",
    "    if bar >=0:\n",
    "        value = np.ones_like(image, dtype= \"uint8\")*bar\n",
    "        img_ctrl = cv2.add(image, value)\n",
    "\n",
    "    else:\n",
    "        bright = 127 - bright\n",
    "        value = np.ones_like(image,dtype=\"uint8\")*bright\n",
    "        img_ctrl = cv2.subtract(image,value)\n",
    "\n",
    "    return img_ctrl"
   ]
  },
  {
   "cell_type": "code",
   "execution_count": 6,
   "metadata": {},
   "outputs": [
    {
     "ename": "TypeError",
     "evalue": "unsupported operand type(s) for -: 'function' and 'int'",
     "output_type": "error",
     "traceback": [
      "\u001b[1;31m---------------------------------------------------------------------------\u001b[0m",
      "\u001b[1;31mTypeError\u001b[0m                                 Traceback (most recent call last)",
      "\u001b[1;32mc:\\Users\\Server_PC\\Documents\\python\\project_brightness.ipynb Cell 6'\u001b[0m in \u001b[0;36m<cell line: 10>\u001b[1;34m()\u001b[0m\n\u001b[0;32m     <a href='vscode-notebook-cell:/c%3A/Users/Server_PC/Documents/python/project_brightness.ipynb#ch0000005?line=12'>13</a>\u001b[0m     \u001b[39mbreak\u001b[39;00m\n\u001b[0;32m     <a href='vscode-notebook-cell:/c%3A/Users/Server_PC/Documents/python/project_brightness.ipynb#ch0000005?line=14'>15</a>\u001b[0m bright \u001b[39m=\u001b[39m cv2\u001b[39m.\u001b[39mgetTrackbarPos(\u001b[39m\"\u001b[39m\u001b[39mBrightness\u001b[39m\u001b[39m\"\u001b[39m, \u001b[39m\"\u001b[39m\u001b[39mBrightness Control\u001b[39m\u001b[39m\"\u001b[39m)\n\u001b[1;32m---> <a href='vscode-notebook-cell:/c%3A/Users/Server_PC/Documents/python/project_brightness.ipynb#ch0000005?line=15'>16</a>\u001b[0m img_ctrl \u001b[39m=\u001b[39m brightness_ctrl(frame,brightness_ctrl)\n\u001b[0;32m     <a href='vscode-notebook-cell:/c%3A/Users/Server_PC/Documents/python/project_brightness.ipynb#ch0000005?line=17'>18</a>\u001b[0m cv2\u001b[39m.\u001b[39mimshow(\u001b[39m\"\u001b[39m\u001b[39mBrightness Control\u001b[39m\u001b[39m\"\u001b[39m,\u001b[39m\"\u001b[39m\u001b[39mframe\u001b[39m\u001b[39m\"\u001b[39m, frame)\n\u001b[0;32m     <a href='vscode-notebook-cell:/c%3A/Users/Server_PC/Documents/python/project_brightness.ipynb#ch0000005?line=18'>19</a>\u001b[0m \u001b[39mif\u001b[39;00m cv2\u001b[39m.\u001b[39mwaitKey(\u001b[39m1\u001b[39m) \u001b[39m==\u001b[39m \u001b[39m27\u001b[39m:\n",
      "\u001b[1;32mc:\\Users\\Server_PC\\Documents\\python\\project_brightness.ipynb Cell 5'\u001b[0m in \u001b[0;36mbrightness_ctrl\u001b[1;34m(image, bright)\u001b[0m\n\u001b[0;32m      <a href='vscode-notebook-cell:/c%3A/Users/Server_PC/Documents/python/project_brightness.ipynb#ch0000004?line=0'>1</a>\u001b[0m \u001b[39mdef\u001b[39;00m \u001b[39mbrightness_ctrl\u001b[39m(image, bright):\n\u001b[1;32m----> <a href='vscode-notebook-cell:/c%3A/Users/Server_PC/Documents/python/project_brightness.ipynb#ch0000004?line=1'>2</a>\u001b[0m     bar \u001b[39m=\u001b[39m bright \u001b[39m-\u001b[39;49m \u001b[39m127\u001b[39;49m\n\u001b[0;32m      <a href='vscode-notebook-cell:/c%3A/Users/Server_PC/Documents/python/project_brightness.ipynb#ch0000004?line=3'>4</a>\u001b[0m     \u001b[39mif\u001b[39;00m bar \u001b[39m>\u001b[39m\u001b[39m=\u001b[39m\u001b[39m0\u001b[39m:\n\u001b[0;32m      <a href='vscode-notebook-cell:/c%3A/Users/Server_PC/Documents/python/project_brightness.ipynb#ch0000004?line=4'>5</a>\u001b[0m         value \u001b[39m=\u001b[39m np\u001b[39m.\u001b[39mones_like(image, dtype\u001b[39m=\u001b[39m \u001b[39m\"\u001b[39m\u001b[39muint8\u001b[39m\u001b[39m\"\u001b[39m)\u001b[39m*\u001b[39mbar\n",
      "\u001b[1;31mTypeError\u001b[0m: unsupported operand type(s) for -: 'function' and 'int'"
     ]
    },
    {
     "ename": "",
     "evalue": "",
     "output_type": "error",
     "traceback": [
      "\u001b[1;31mThe Kernel crashed while executing code in the the current cell or a previous cell. Please review the code in the cell(s) to identify a possible cause of the failure. Click <a href='https://aka.ms/vscodeJupyterKernelCrash'>here</a> for more info. View Jupyter <a href='command:jupyter.viewOutput'>log</a> for further details."
     ]
    }
   ],
   "source": [
    "def nothing(x):\n",
    "    pass\n",
    "\n",
    "cap = cv2.VideoCapture(\"./videos/clip.mp4\")\n",
    "cv2.namedWindow(\"Brightness Control\")\n",
    "bright = cv2.createTrackbar(\"Brightness\",\"Brightness Control\", 75, 255, nothing)\n",
    "value = np.ones_like(img,dtype=\"uint8\")\n",
    "\n",
    "\n",
    "while True:\n",
    "    ret, frame =  cap.read()\n",
    "    if ret == False:\n",
    "        break\n",
    "\n",
    "    bright = cv2.getTrackbarPos(\"Brightness\", \"Brightness Control\")\n",
    "    img_ctrl = brightness_ctrl(frame,brightness_ctrl)\n",
    "\n",
    "    cv2.imshow(\"Brightness Control\",\"frame\", frame)\n",
    "    if cv2.waitKey(1) == 27:\n",
    "        break\n",
    "\n",
    "cv2.destroyAllWindows()\n",
    "cap.release()"
   ]
  },
  {
   "cell_type": "code",
   "execution_count": null,
   "metadata": {},
   "outputs": [],
   "source": []
  }
 ],
 "metadata": {
  "kernelspec": {
   "display_name": "Python 3.10.4 64-bit",
   "language": "python",
   "name": "python3"
  },
  "language_info": {
   "codemirror_mode": {
    "name": "ipython",
    "version": 3
   },
   "file_extension": ".py",
   "mimetype": "text/x-python",
   "name": "python",
   "nbconvert_exporter": "python",
   "pygments_lexer": "ipython3",
   "version": "3.10.4"
  },
  "orig_nbformat": 4,
  "vscode": {
   "interpreter": {
    "hash": "ffd44c0fe5a3ec242ee01199f8a2599f29a6a837f142006015371c54e41a6e4e"
   }
  }
 },
 "nbformat": 4,
 "nbformat_minor": 2
}
