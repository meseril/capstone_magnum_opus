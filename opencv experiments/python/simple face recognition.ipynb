{
 "cells": [
  {
   "cell_type": "code",
   "execution_count": 6,
   "metadata": {},
   "outputs": [],
   "source": [
    "import cv2\n",
    "import face_recognition\n",
    "from simple_facerec import SimpleFacerec"
   ]
  },
  {
   "cell_type": "code",
   "execution_count": 17,
   "metadata": {},
   "outputs": [
    {
     "name": "stdout",
     "output_type": "stream",
     "text": [
      "7 encoding images found.\n",
      "Encoding images loaded\n"
     ]
    }
   ],
   "source": [
    "sfr = SimpleFacerec() # Encode faces from a folder \n",
    "sfr.load_encoding_images(\"./face_recognition/source code/images/\")\n",
    "cap = cv2.VideoCapture(0) #Load Camera\n",
    "\n",
    "while True:\n",
    "    ret, frame = cap.read()\n",
    "\n",
    "    #Detect Faces\n",
    "    face_locations, face_names = sfr.detect_known_faces(frame)\n",
    "    for face_loc, name in zip(face_locations,face_names):\n",
    "        top, left, bottom, right = face_loc[0],face_loc[1],face_loc[2],face_loc[3]\n",
    "\n",
    "        cv2.putText(frame,name, (right,top - 10), cv2.FONT_HERSHEY_DUPLEX, 1, (255,255,255), 2)\n",
    "        cv2.rectangle(frame, (left,top),(right, bottom),(0,255,0),1)\n",
    "\n",
    "    cv2.imshow(\"Frame\", frame)\n",
    "    if cv2.waitKey(1) == ord ('q'):\n",
    "        break\n",
    "\n",
    "cap.release()\n",
    "cv2.destroyAllWindows()\n"
   ]
  },
  {
   "cell_type": "code",
   "execution_count": null,
   "metadata": {},
   "outputs": [],
   "source": []
  },
  {
   "cell_type": "code",
   "execution_count": null,
   "metadata": {},
   "outputs": [],
   "source": []
  },
  {
   "cell_type": "code",
   "execution_count": null,
   "metadata": {},
   "outputs": [],
   "source": []
  }
 ],
 "metadata": {
  "kernelspec": {
   "display_name": "Python 3.10.4 64-bit",
   "language": "python",
   "name": "python3"
  },
  "language_info": {
   "codemirror_mode": {
    "name": "ipython",
    "version": 3
   },
   "file_extension": ".py",
   "mimetype": "text/x-python",
   "name": "python",
   "nbconvert_exporter": "python",
   "pygments_lexer": "ipython3",
   "version": "3.10.4"
  },
  "orig_nbformat": 4,
  "vscode": {
   "interpreter": {
    "hash": "ffd44c0fe5a3ec242ee01199f8a2599f29a6a837f142006015371c54e41a6e4e"
   }
  }
 },
 "nbformat": 4,
 "nbformat_minor": 2
}
